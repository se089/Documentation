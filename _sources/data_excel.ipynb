{
 "cells": [
  {
   "cell_type": "code",
   "execution_count": 1,
   "metadata": {},
   "outputs": [],
   "source": [
    "import pandas as pd\n",
    "import numpy as np\n"
   ]
  },
  {
   "cell_type": "code",
   "execution_count": 2,
   "metadata": {},
   "outputs": [],
   "source": [
    "# load data\n",
    "df_impact_total = pd.read_csv('Dashboard/fig1_environmental_impact_food.csv', delimiter=';')\n",
    "df_impact_steps = pd.read_csv('Dashboard/fig2_emissions-food-per-step.csv', delimiter=';')\n",
    "df_world = pd.read_csv('Dashboard/fig3_global_ghg_emissions.csv')\n",
    "df_impact_single = pd.read_csv('Dashboard/fig4_effect_of_different_foods.csv')\n",
    "df_diet = pd.read_csv('Dashboard/fig5_diets.csv')"
   ]
  },
  {
   "cell_type": "code",
   "execution_count": 3,
   "metadata": {},
   "outputs": [],
   "source": [
    "# Dump Pandas DataFrame to Excel sheet: XLS wird erstellt und in Verzeichnis geschrieben\n",
    "writer = pd.ExcelWriter('data_report.xlsx', engine='xlsxwriter')\n",
    "df_impact_total.to_excel(writer, sheet_name='Impact_foodproduction', startrow=1, index=False)\n",
    "df_impact_steps.to_excel(writer, sheet_name='GHG_emissions_per_step', startrow=1, index=False)\n",
    "df_world.to_excel(writer, sheet_name='Global_GHG_emissions', startrow=1, index=False)\n",
    "df_impact_single.to_excel(writer, sheet_name='Impact_single_food', startrow=1, index=False)\n",
    "df_diet.to_excel(writer, sheet_name='Impact_of_different_diets', startrow=1, index=False)"
   ]
  },
  {
   "cell_type": "markdown",
   "metadata": {},
   "source": [
    "## Styling\n",
    "### Add Titles"
   ]
  },
  {
   "cell_type": "code",
   "execution_count": 4,
   "metadata": {},
   "outputs": [],
   "source": [
    "#Further manipulation: title for each sheet\n",
    "book = writer.book\n",
    "#Formatting of title\n",
    "bold = book.add_format({'bold': True, 'size': 16})\n",
    "sheets = {'Impact_foodproduction':'Anteil der Lebensmittelmittelindustrie an verschiedenen negativen Umwelteinflüssen', 'GHG_emissions_per_step':'Treibhausgasemissionen entlang der Produktionskette von Lebensmitteln', \n",
    "    'Global_GHG_emissions':'Globale Treibhausgasemissionen im Zeitverlauf (Nahrungsmittelindustrie + Gesamt)', \n",
    "    'Impact_single_food':'Umwelteinflüsse ausgewählter Lebensmittel' , 'Impact_of_different_diets':'Vergleich verschiedener Ernährungsweisen'}\n"
   ]
  },
  {
   "cell_type": "code",
   "execution_count": 5,
   "metadata": {},
   "outputs": [],
   "source": [
    "# Add title to each sheet\n",
    "for key in sheets.keys():\n",
    "    sheet = writer.sheets[key]\n",
    "    sheet.write('A1', sheets[key], bold)\n"
   ]
  },
  {
   "cell_type": "markdown",
   "metadata": {},
   "source": [
    "### Formatting columns"
   ]
  },
  {
   "cell_type": "code",
   "execution_count": 6,
   "metadata": {},
   "outputs": [],
   "source": [
    "#thousand separator\n",
    "format1 = book.add_format({'num_format': '#,##0.00'})\n",
    "#percent\n",
    "format2 = book.add_format({'num_format': '0.00%'})\n",
    "#text wrap\n",
    "format3 = book.add_format({ 'text_wrap': True, 'valign': 'top'})"
   ]
  },
  {
   "cell_type": "code",
   "execution_count": 7,
   "metadata": {},
   "outputs": [
    {
     "data": {
      "text/plain": [
       "0"
      ]
     },
     "execution_count": 7,
     "metadata": {},
     "output_type": "execute_result"
    }
   ],
   "source": [
    "# Sheet 1\n",
    "worksheet = writer.sheets['Impact_foodproduction']\n",
    "worksheet.set_column('B:B', 12, format2)\n",
    "worksheet.set_column('A:A', 18)\n",
    "worksheet.set_column('C:C', 18)\n",
    "worksheet.set_column('D:D', 40, format3)"
   ]
  },
  {
   "cell_type": "code",
   "execution_count": 8,
   "metadata": {},
   "outputs": [
    {
     "data": {
      "text/plain": [
       "0"
      ]
     },
     "execution_count": 8,
     "metadata": {},
     "output_type": "execute_result"
    }
   ],
   "source": [
    "# Sheet 2\n",
    "worksheet = writer.sheets['GHG_emissions_per_step']\n",
    "worksheet.set_column('A:B', 20, format3)\n",
    "worksheet.set_column('C:C', 12, format2)"
   ]
  },
  {
   "cell_type": "code",
   "execution_count": 9,
   "metadata": {},
   "outputs": [
    {
     "data": {
      "text/plain": [
       "0"
      ]
     },
     "execution_count": 9,
     "metadata": {},
     "output_type": "execute_result"
    }
   ],
   "source": [
    "# Sheet 3\n",
    "worksheet = writer.sheets['Global_GHG_emissions']\n",
    "worksheet.set_column('C:C', 15, format1)\n",
    "worksheet.set_column('D:D', 18, format2)\n",
    "worksheet.set_column('E:E', 15, format1)"
   ]
  },
  {
   "cell_type": "code",
   "execution_count": 10,
   "metadata": {},
   "outputs": [
    {
     "data": {
      "text/plain": [
       "0"
      ]
     },
     "execution_count": 10,
     "metadata": {},
     "output_type": "execute_result"
    }
   ],
   "source": [
    "# Sheet 4\n",
    "worksheet = writer.sheets['Impact_single_food']\n",
    "worksheet.set_column('B:D', 12, format1)\n",
    "worksheet.set_column('A:A', 15)\n",
    "worksheet.set_column('E:E', 18, format3)"
   ]
  },
  {
   "cell_type": "code",
   "execution_count": 11,
   "metadata": {},
   "outputs": [
    {
     "data": {
      "text/plain": [
       "0"
      ]
     },
     "execution_count": 11,
     "metadata": {},
     "output_type": "execute_result"
    }
   ],
   "source": [
    "# Sheet 5\n",
    "worksheet = writer.sheets['Impact_of_different_diets']\n",
    "worksheet.set_column('B:B', 12, format1)\n",
    "worksheet.set_column('A:A', 20)\n",
    "worksheet.set_column('C:C', 20, format3)"
   ]
  },
  {
   "cell_type": "markdown",
   "metadata": {},
   "source": [
    "# Save Excel"
   ]
  },
  {
   "cell_type": "code",
   "execution_count": 12,
   "metadata": {},
   "outputs": [],
   "source": [
    "# Close the Pandas Excel writer and output the Excel file.\n",
    "writer.save()"
   ]
  }
 ],
 "metadata": {
  "interpreter": {
   "hash": "c93349fa3b4f50b76e243d5f97388cd83571170d691f1e15385a8e4c01f11fe4"
  },
  "kernelspec": {
   "display_name": "Python 3.8.8 64-bit ('base': conda)",
   "name": "python3"
  },
  "language_info": {
   "codemirror_mode": {
    "name": "ipython",
    "version": 3
   },
   "file_extension": ".py",
   "mimetype": "text/x-python",
   "name": "python",
   "nbconvert_exporter": "python",
   "pygments_lexer": "ipython3",
   "version": "3.8.8"
  },
  "orig_nbformat": 4
 },
 "nbformat": 4,
 "nbformat_minor": 2
}
