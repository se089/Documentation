{
 "cells": [
  {
   "cell_type": "code",
   "execution_count": 2,
   "metadata": {},
   "outputs": [
    {
     "ename": "ModuleNotFoundError",
     "evalue": "No module named 'xhtml2pdf'",
     "output_type": "error",
     "traceback": [
      "\u001b[0;31m---------------------------------------------------------------------------\u001b[0m",
      "\u001b[0;31mModuleNotFoundError\u001b[0m                       Traceback (most recent call last)",
      "\u001b[0;32m/var/folders/kw/s_xlzpvx06b3lqd79926zrb00000gn/T/ipykernel_4436/1603384934.py\u001b[0m in \u001b[0;36m<module>\u001b[0;34m\u001b[0m\n\u001b[1;32m      2\u001b[0m \u001b[0;32mimport\u001b[0m \u001b[0mnumpy\u001b[0m \u001b[0;32mas\u001b[0m \u001b[0mnp\u001b[0m\u001b[0;34m\u001b[0m\u001b[0;34m\u001b[0m\u001b[0m\n\u001b[1;32m      3\u001b[0m \u001b[0;32mimport\u001b[0m \u001b[0mjinja2\u001b[0m\u001b[0;34m\u001b[0m\u001b[0;34m\u001b[0m\u001b[0m\n\u001b[0;32m----> 4\u001b[0;31m \u001b[0;32mfrom\u001b[0m \u001b[0mxhtml2pdf\u001b[0m \u001b[0;32mimport\u001b[0m \u001b[0mpisa\u001b[0m\u001b[0;34m\u001b[0m\u001b[0;34m\u001b[0m\u001b[0m\n\u001b[0m\u001b[1;32m      5\u001b[0m \u001b[0;32mimport\u001b[0m \u001b[0mplotly\u001b[0m\u001b[0;34m.\u001b[0m\u001b[0mexpress\u001b[0m \u001b[0;32mas\u001b[0m \u001b[0mpx\u001b[0m\u001b[0;34m\u001b[0m\u001b[0;34m\u001b[0m\u001b[0m\n\u001b[1;32m      6\u001b[0m \u001b[0;32mimport\u001b[0m \u001b[0mplotly\u001b[0m\u001b[0;34m.\u001b[0m\u001b[0mgraph_objects\u001b[0m \u001b[0;32mas\u001b[0m \u001b[0mgo\u001b[0m\u001b[0;34m\u001b[0m\u001b[0;34m\u001b[0m\u001b[0m\n",
      "\u001b[0;31mModuleNotFoundError\u001b[0m: No module named 'xhtml2pdf'"
     ]
    }
   ],
   "source": [
    "import pandas as pd\n",
    "import numpy as np\n",
    "import jinja2\n",
    "from xhtml2pdf import pisa\n",
    "import plotly.express as px\n",
    "import plotly.graph_objects as go\n",
    "#for worldmap\n",
    "from urllib.request import urlopen\n",
    "import json"
   ]
  },
  {
   "cell_type": "markdown",
   "metadata": {},
   "source": [
    "# PDF Report\n",
    "## Preparation\n",
    "Firstly, we will create a HTML-report with jinja2. Afterwards, this html-file will be converted to pdf by pdfkit."
   ]
  },
  {
   "cell_type": "code",
   "execution_count": 7,
   "metadata": {},
   "outputs": [],
   "source": [
    "# Template handling\n",
    "env = jinja2.Environment(loader=jinja2.FileSystemLoader(searchpath=''))\n",
    "template = env.get_template('report_template.html')\n"
   ]
  },
  {
   "cell_type": "code",
   "execution_count": 8,
   "metadata": {},
   "outputs": [],
   "source": [
    "#Define document colors: 0:Green, 1:yellow, 2:red, 3:beige, 4:grey, 5:light-green, 6:light-yellow, 7:light-red, 8:dark-beige, 9: light-grey\n",
    "colors = ['#1D7151', '#E39617', '#CC0000', '#E3DCCA', '#505C5D', '#8FBF99', '#F2C279','#F2AA91', '#CCAD99', '#ACBFBF']\n",
    "font='Roboto-light, Gravitas One, Raleway, Arial, sans-serif'\n",
    "title_font='Montserrat-Regular, Raleway, sans-serif'"
   ]
  },
  {
   "cell_type": "markdown",
   "metadata": {},
   "source": [
    "## Introduction"
   ]
  },
  {
   "cell_type": "code",
   "execution_count": 9,
   "metadata": {},
   "outputs": [],
   "source": [
    "introduction = '''Der Klimawandel ist aktueller denn je. Um diesem entgegen zu wirken, müssen Treibhausgasemissionen und negative Einflüsse auf unsere Umwelt reduziert oder gänzlich vermieden werden.\n",
    "                Die <b><font color='#1D7151'>Lebensmittelindustrie</font></b> ist ein wesentlicher Treiber dieser Umweltschäden. Eine bewusste Auswahl von Lebensmitteln und eine gesunde Ernährung sind eine wirksame Möglichkeit, um auch als Endverbraucher die Nachhaltigkeit dieses Sektors zu fördern. \n",
    "                In diesem Bericht gehen wir auf die <b>Umweltauswirkungen</b> der Lebensmittelindustrie ein. Insbesondere zeigen wir den <b>Ursprung</b> und die <b>Entwicklung</b> der Treibhausgasemissionen. \n",
    "                Des Weiteren zeigen wir den Umwelteinfluss einzelner Lebensmittel auf, geben eine <b>Ernährungsempfehlung</b> und vergleichen diese mit der durchschnittlichen Ernährungsweise einzelner Länder.\n",
    "                '''"
   ]
  },
  {
   "cell_type": "markdown",
   "metadata": {},
   "source": [
    "## 1 Environmental Impact of the food industry\n",
    "### Figure 1.1 Different impacts"
   ]
  },
  {
   "cell_type": "code",
   "execution_count": 10,
   "metadata": {},
   "outputs": [],
   "source": [
    "#text\n",
    "fig_1_1_title='Wie wirkt sich die Lebensmittelindustrie auf die Umwelt aus?'\n",
    "fig_1_1_description='''Die Grafik zeigt, welchen Anteil die Lebensmittelindustrie an verschiedenen, negativen Umweltauswirkungen besitzt. So ist die Lebensmittelindustrie z.B. für <b>ein Drittel der weltweiten Treibhausgasemissionen</b> verantwortlich. <br>\n",
    "                    Für den Anbau und die Tierhaltung werden <b>50% der weltweit nutzbaren Fläche</b> beansprucht. Die Anbauflächen werden dabei überwiegend für die Futtermittelproduktion der Tiere (77%) und nicht für direkte Nahrungsmittel für den Menschen genutzt.<br>\n",
    "                    Die andere Hälfte umfasst menschlichen Wohnraum, Wälder und Süßwasser. <br>Des Weiteren werden für die Bewässerung und Tierhaltung große Mengen Wasser benötigt. <b>70% des weltweiten Süßwasserverbrauchs</b> entsteht durch die Landwirtschaft, Industrie und Privathaushalte verbrauchen im Vergleich dazu nur 19 % bzw. 11%.\n",
    "                    <br>Ein weiterer wichtiger, negativer Einfluss auf unsere Umwelt ist die Eutrophierung. Eutrophierung bezeichnet die Verschmutzung von Gewässern in Form von schädlichem Pflanzenwachstum durch den Eintrag nährstoffreicher Schadstoffe. Hauptursache für diese Verschmutzung ist die Überdüngung von Böden in der Landwirtschaft.\n",
    "                    <br>Außerdem beeinflusst die Landwirtschaft auch die Artenvielfalt. 94% aller Säugetiere (Menschen ausgeschlossen) sind Nutztiere. Das heißt <b>nur 6% der Säugetiere leben in freier Wildbahn.</b>'''"
   ]
  },
  {
   "cell_type": "code",
   "execution_count": 11,
   "metadata": {},
   "outputs": [
    {
     "data": {
      "application/vnd.plotly.v1+json": {
       "config": {
        "plotlyServerURL": "https://plot.ly"
       },
       "data": [
        {
         "customdata": [
          "Lebensmittelindustrie",
          "Andere",
          "Lebensmittelindustrie",
          "Andere",
          "Lebensmittelindustrie",
          "Andere",
          "Lebensmittelindustrie",
          "Andere",
          "Lebensmittelindustrie",
          "Andere"
         ],
         "hoverinfo": "skip",
         "marker": {
          "color": [
           "#1D7151",
           "#E3DCCA",
           "#1D7151",
           "#E3DCCA",
           "#1D7151",
           "#E3DCCA",
           "#1D7151",
           "#E3DCCA",
           "#1D7151",
           "#E3DCCA"
          ]
         },
         "name": "Lebensmittelindustrie",
         "showlegend": false,
         "text": [
          "0.34",
          "0.66",
          "0.5",
          "0.5",
          "0.7",
          "0.3",
          "0.78",
          "0.22",
          "0.94",
          "0.06"
         ],
         "textposition": "inside",
         "texttemplate": "%{text:p}",
         "type": "bar",
         "x": [
          "Treibhausgase",
          "Treibhausgase",
          "Flächenverbrauch",
          "Flächenverbrauch",
          "Süßwasserverbrauch",
          "Süßwasserverbrauch",
          "Eutrophierung",
          "Eutrophierung",
          "Artenvielfalt",
          "Artenvielfalt"
         ],
         "y": [
          0.34,
          0.66,
          0.5,
          0.5,
          0.7,
          0.3,
          0.78,
          0.22,
          0.94,
          0.06
         ]
        }
       ],
       "layout": {
        "barmode": "stack",
        "font": {
         "family": "Roboto-light, Gravitas One, Raleway, Arial, sans-serif"
        },
        "margin": {
         "b": 10,
         "l": 10,
         "r": 10,
         "t": 30
        },
        "template": {
         "data": {
          "bar": [
           {
            "error_x": {
             "color": "#2a3f5f"
            },
            "error_y": {
             "color": "#2a3f5f"
            },
            "marker": {
             "line": {
              "color": "#E5ECF6",
              "width": 0.5
             },
             "pattern": {
              "fillmode": "overlay",
              "size": 10,
              "solidity": 0.2
             }
            },
            "type": "bar"
           }
          ],
          "barpolar": [
           {
            "marker": {
             "line": {
              "color": "#E5ECF6",
              "width": 0.5
             },
             "pattern": {
              "fillmode": "overlay",
              "size": 10,
              "solidity": 0.2
             }
            },
            "type": "barpolar"
           }
          ],
          "carpet": [
           {
            "aaxis": {
             "endlinecolor": "#2a3f5f",
             "gridcolor": "white",
             "linecolor": "white",
             "minorgridcolor": "white",
             "startlinecolor": "#2a3f5f"
            },
            "baxis": {
             "endlinecolor": "#2a3f5f",
             "gridcolor": "white",
             "linecolor": "white",
             "minorgridcolor": "white",
             "startlinecolor": "#2a3f5f"
            },
            "type": "carpet"
           }
          ],
          "choropleth": [
           {
            "colorbar": {
             "outlinewidth": 0,
             "ticks": ""
            },
            "type": "choropleth"
           }
          ],
          "contour": [
           {
            "colorbar": {
             "outlinewidth": 0,
             "ticks": ""
            },
            "colorscale": [
             [
              0,
              "#0d0887"
             ],
             [
              0.1111111111111111,
              "#46039f"
             ],
             [
              0.2222222222222222,
              "#7201a8"
             ],
             [
              0.3333333333333333,
              "#9c179e"
             ],
             [
              0.4444444444444444,
              "#bd3786"
             ],
             [
              0.5555555555555556,
              "#d8576b"
             ],
             [
              0.6666666666666666,
              "#ed7953"
             ],
             [
              0.7777777777777778,
              "#fb9f3a"
             ],
             [
              0.8888888888888888,
              "#fdca26"
             ],
             [
              1,
              "#f0f921"
             ]
            ],
            "type": "contour"
           }
          ],
          "contourcarpet": [
           {
            "colorbar": {
             "outlinewidth": 0,
             "ticks": ""
            },
            "type": "contourcarpet"
           }
          ],
          "heatmap": [
           {
            "colorbar": {
             "outlinewidth": 0,
             "ticks": ""
            },
            "colorscale": [
             [
              0,
              "#0d0887"
             ],
             [
              0.1111111111111111,
              "#46039f"
             ],
             [
              0.2222222222222222,
              "#7201a8"
             ],
             [
              0.3333333333333333,
              "#9c179e"
             ],
             [
              0.4444444444444444,
              "#bd3786"
             ],
             [
              0.5555555555555556,
              "#d8576b"
             ],
             [
              0.6666666666666666,
              "#ed7953"
             ],
             [
              0.7777777777777778,
              "#fb9f3a"
             ],
             [
              0.8888888888888888,
              "#fdca26"
             ],
             [
              1,
              "#f0f921"
             ]
            ],
            "type": "heatmap"
           }
          ],
          "heatmapgl": [
           {
            "colorbar": {
             "outlinewidth": 0,
             "ticks": ""
            },
            "colorscale": [
             [
              0,
              "#0d0887"
             ],
             [
              0.1111111111111111,
              "#46039f"
             ],
             [
              0.2222222222222222,
              "#7201a8"
             ],
             [
              0.3333333333333333,
              "#9c179e"
             ],
             [
              0.4444444444444444,
              "#bd3786"
             ],
             [
              0.5555555555555556,
              "#d8576b"
             ],
             [
              0.6666666666666666,
              "#ed7953"
             ],
             [
              0.7777777777777778,
              "#fb9f3a"
             ],
             [
              0.8888888888888888,
              "#fdca26"
             ],
             [
              1,
              "#f0f921"
             ]
            ],
            "type": "heatmapgl"
           }
          ],
          "histogram": [
           {
            "marker": {
             "pattern": {
              "fillmode": "overlay",
              "size": 10,
              "solidity": 0.2
             }
            },
            "type": "histogram"
           }
          ],
          "histogram2d": [
           {
            "colorbar": {
             "outlinewidth": 0,
             "ticks": ""
            },
            "colorscale": [
             [
              0,
              "#0d0887"
             ],
             [
              0.1111111111111111,
              "#46039f"
             ],
             [
              0.2222222222222222,
              "#7201a8"
             ],
             [
              0.3333333333333333,
              "#9c179e"
             ],
             [
              0.4444444444444444,
              "#bd3786"
             ],
             [
              0.5555555555555556,
              "#d8576b"
             ],
             [
              0.6666666666666666,
              "#ed7953"
             ],
             [
              0.7777777777777778,
              "#fb9f3a"
             ],
             [
              0.8888888888888888,
              "#fdca26"
             ],
             [
              1,
              "#f0f921"
             ]
            ],
            "type": "histogram2d"
           }
          ],
          "histogram2dcontour": [
           {
            "colorbar": {
             "outlinewidth": 0,
             "ticks": ""
            },
            "colorscale": [
             [
              0,
              "#0d0887"
             ],
             [
              0.1111111111111111,
              "#46039f"
             ],
             [
              0.2222222222222222,
              "#7201a8"
             ],
             [
              0.3333333333333333,
              "#9c179e"
             ],
             [
              0.4444444444444444,
              "#bd3786"
             ],
             [
              0.5555555555555556,
              "#d8576b"
             ],
             [
              0.6666666666666666,
              "#ed7953"
             ],
             [
              0.7777777777777778,
              "#fb9f3a"
             ],
             [
              0.8888888888888888,
              "#fdca26"
             ],
             [
              1,
              "#f0f921"
             ]
            ],
            "type": "histogram2dcontour"
           }
          ],
          "mesh3d": [
           {
            "colorbar": {
             "outlinewidth": 0,
             "ticks": ""
            },
            "type": "mesh3d"
           }
          ],
          "parcoords": [
           {
            "line": {
             "colorbar": {
              "outlinewidth": 0,
              "ticks": ""
             }
            },
            "type": "parcoords"
           }
          ],
          "pie": [
           {
            "automargin": true,
            "type": "pie"
           }
          ],
          "scatter": [
           {
            "marker": {
             "colorbar": {
              "outlinewidth": 0,
              "ticks": ""
             }
            },
            "type": "scatter"
           }
          ],
          "scatter3d": [
           {
            "line": {
             "colorbar": {
              "outlinewidth": 0,
              "ticks": ""
             }
            },
            "marker": {
             "colorbar": {
              "outlinewidth": 0,
              "ticks": ""
             }
            },
            "type": "scatter3d"
           }
          ],
          "scattercarpet": [
           {
            "marker": {
             "colorbar": {
              "outlinewidth": 0,
              "ticks": ""
             }
            },
            "type": "scattercarpet"
           }
          ],
          "scattergeo": [
           {
            "marker": {
             "colorbar": {
              "outlinewidth": 0,
              "ticks": ""
             }
            },
            "type": "scattergeo"
           }
          ],
          "scattergl": [
           {
            "marker": {
             "colorbar": {
              "outlinewidth": 0,
              "ticks": ""
             }
            },
            "type": "scattergl"
           }
          ],
          "scattermapbox": [
           {
            "marker": {
             "colorbar": {
              "outlinewidth": 0,
              "ticks": ""
             }
            },
            "type": "scattermapbox"
           }
          ],
          "scatterpolar": [
           {
            "marker": {
             "colorbar": {
              "outlinewidth": 0,
              "ticks": ""
             }
            },
            "type": "scatterpolar"
           }
          ],
          "scatterpolargl": [
           {
            "marker": {
             "colorbar": {
              "outlinewidth": 0,
              "ticks": ""
             }
            },
            "type": "scatterpolargl"
           }
          ],
          "scatterternary": [
           {
            "marker": {
             "colorbar": {
              "outlinewidth": 0,
              "ticks": ""
             }
            },
            "type": "scatterternary"
           }
          ],
          "surface": [
           {
            "colorbar": {
             "outlinewidth": 0,
             "ticks": ""
            },
            "colorscale": [
             [
              0,
              "#0d0887"
             ],
             [
              0.1111111111111111,
              "#46039f"
             ],
             [
              0.2222222222222222,
              "#7201a8"
             ],
             [
              0.3333333333333333,
              "#9c179e"
             ],
             [
              0.4444444444444444,
              "#bd3786"
             ],
             [
              0.5555555555555556,
              "#d8576b"
             ],
             [
              0.6666666666666666,
              "#ed7953"
             ],
             [
              0.7777777777777778,
              "#fb9f3a"
             ],
             [
              0.8888888888888888,
              "#fdca26"
             ],
             [
              1,
              "#f0f921"
             ]
            ],
            "type": "surface"
           }
          ],
          "table": [
           {
            "cells": {
             "fill": {
              "color": "#EBF0F8"
             },
             "line": {
              "color": "white"
             }
            },
            "header": {
             "fill": {
              "color": "#C8D4E3"
             },
             "line": {
              "color": "white"
             }
            },
            "type": "table"
           }
          ]
         },
         "layout": {
          "annotationdefaults": {
           "arrowcolor": "#2a3f5f",
           "arrowhead": 0,
           "arrowwidth": 1
          },
          "autotypenumbers": "strict",
          "coloraxis": {
           "colorbar": {
            "outlinewidth": 0,
            "ticks": ""
           }
          },
          "colorscale": {
           "diverging": [
            [
             0,
             "#8e0152"
            ],
            [
             0.1,
             "#c51b7d"
            ],
            [
             0.2,
             "#de77ae"
            ],
            [
             0.3,
             "#f1b6da"
            ],
            [
             0.4,
             "#fde0ef"
            ],
            [
             0.5,
             "#f7f7f7"
            ],
            [
             0.6,
             "#e6f5d0"
            ],
            [
             0.7,
             "#b8e186"
            ],
            [
             0.8,
             "#7fbc41"
            ],
            [
             0.9,
             "#4d9221"
            ],
            [
             1,
             "#276419"
            ]
           ],
           "sequential": [
            [
             0,
             "#0d0887"
            ],
            [
             0.1111111111111111,
             "#46039f"
            ],
            [
             0.2222222222222222,
             "#7201a8"
            ],
            [
             0.3333333333333333,
             "#9c179e"
            ],
            [
             0.4444444444444444,
             "#bd3786"
            ],
            [
             0.5555555555555556,
             "#d8576b"
            ],
            [
             0.6666666666666666,
             "#ed7953"
            ],
            [
             0.7777777777777778,
             "#fb9f3a"
            ],
            [
             0.8888888888888888,
             "#fdca26"
            ],
            [
             1,
             "#f0f921"
            ]
           ],
           "sequentialminus": [
            [
             0,
             "#0d0887"
            ],
            [
             0.1111111111111111,
             "#46039f"
            ],
            [
             0.2222222222222222,
             "#7201a8"
            ],
            [
             0.3333333333333333,
             "#9c179e"
            ],
            [
             0.4444444444444444,
             "#bd3786"
            ],
            [
             0.5555555555555556,
             "#d8576b"
            ],
            [
             0.6666666666666666,
             "#ed7953"
            ],
            [
             0.7777777777777778,
             "#fb9f3a"
            ],
            [
             0.8888888888888888,
             "#fdca26"
            ],
            [
             1,
             "#f0f921"
            ]
           ]
          },
          "colorway": [
           "#636efa",
           "#EF553B",
           "#00cc96",
           "#ab63fa",
           "#FFA15A",
           "#19d3f3",
           "#FF6692",
           "#B6E880",
           "#FF97FF",
           "#FECB52"
          ],
          "font": {
           "color": "#2a3f5f"
          },
          "geo": {
           "bgcolor": "white",
           "lakecolor": "white",
           "landcolor": "#E5ECF6",
           "showlakes": true,
           "showland": true,
           "subunitcolor": "white"
          },
          "hoverlabel": {
           "align": "left"
          },
          "hovermode": "closest",
          "mapbox": {
           "style": "light"
          },
          "paper_bgcolor": "white",
          "plot_bgcolor": "#E5ECF6",
          "polar": {
           "angularaxis": {
            "gridcolor": "white",
            "linecolor": "white",
            "ticks": ""
           },
           "bgcolor": "#E5ECF6",
           "radialaxis": {
            "gridcolor": "white",
            "linecolor": "white",
            "ticks": ""
           }
          },
          "scene": {
           "xaxis": {
            "backgroundcolor": "#E5ECF6",
            "gridcolor": "white",
            "gridwidth": 2,
            "linecolor": "white",
            "showbackground": true,
            "ticks": "",
            "zerolinecolor": "white"
           },
           "yaxis": {
            "backgroundcolor": "#E5ECF6",
            "gridcolor": "white",
            "gridwidth": 2,
            "linecolor": "white",
            "showbackground": true,
            "ticks": "",
            "zerolinecolor": "white"
           },
           "zaxis": {
            "backgroundcolor": "#E5ECF6",
            "gridcolor": "white",
            "gridwidth": 2,
            "linecolor": "white",
            "showbackground": true,
            "ticks": "",
            "zerolinecolor": "white"
           }
          },
          "shapedefaults": {
           "line": {
            "color": "#2a3f5f"
           }
          },
          "ternary": {
           "aaxis": {
            "gridcolor": "white",
            "linecolor": "white",
            "ticks": ""
           },
           "baxis": {
            "gridcolor": "white",
            "linecolor": "white",
            "ticks": ""
           },
           "bgcolor": "#E5ECF6",
           "caxis": {
            "gridcolor": "white",
            "linecolor": "white",
            "ticks": ""
           }
          },
          "title": {
           "x": 0.05
          },
          "xaxis": {
           "automargin": true,
           "gridcolor": "white",
           "linecolor": "white",
           "ticks": "",
           "title": {
            "standoff": 15
           },
           "zerolinecolor": "white",
           "zerolinewidth": 2
          },
          "yaxis": {
           "automargin": true,
           "gridcolor": "white",
           "linecolor": "white",
           "ticks": "",
           "title": {
            "standoff": 15
           },
           "zerolinecolor": "white",
           "zerolinewidth": 2
          }
         }
        },
        "title": {
         "font": {
          "family": "Montserrat-Regular, Raleway, sans-serif"
         },
         "text": "Anteil der <b style='color:#1D7151'>Lebensmittelindustrie</b> an verschiedenen Umweltschäden",
         "x": 0,
         "y": 1
        },
        "yaxis": {
         "tickformat": ".0%"
        }
       }
      }
     },
     "metadata": {},
     "output_type": "display_data"
    }
   ],
   "source": [
    "#figure\n",
    "df_impact_total = pd.read_csv('../Dashboard/fig1_environmental_impact_food.csv', delimiter=';')\n",
    "df_impact_total['impact']=df_impact_total['impact'].astype('category')\n",
    "df_impact_total['sector']=df_impact_total['sector'].astype('category')\n",
    "df_impact_total['description']=df_impact_total['description'].astype('category')\n",
    "\n",
    "\n",
    "\n",
    "fig_1_1=go.Figure([\n",
    "        #Bar 1 : Lebensmittelindustrie\n",
    "        go.Bar(name='Lebensmittelindustrie', \n",
    "                x=df_impact_total['impact'], \n",
    "                y=df_impact_total['percent'],\n",
    "                \n",
    "                customdata=df_impact_total['sector'],\n",
    "                #hide hovertext\n",
    "                hovertext=None,\n",
    "                hoverinfo='skip',\n",
    "                marker_color= [colors[0], colors[3],colors[0], colors[3],colors[0], colors[3],colors[0], colors[3],colors[0], colors[3]],\n",
    "                text = df_impact_total[\"percent\"],\n",
    "                texttemplate='%{text:p}',\n",
    "                showlegend=False,\n",
    "                textposition='inside'\n",
    "                     \n",
    "                ),\n",
    "        \n",
    "])\n",
    "fig_1_1.update_layout(\n",
    "                barmode='stack', #creates stacked plot instead of two bars next to each other\n",
    "                # Label axis + title\n",
    "                title={'text':\"Anteil der <b style='color:#1D7151'>Lebensmittelindustrie</b> an verschiedenen Umweltschäden\",'font_family':'Montserrat-Regular, Raleway, sans-serif', 'x':0, 'y':1},\n",
    "                #xaxis = {\"title\": \"Art des Umwelteinflusses\"},\n",
    "                yaxis={'tickformat':'.0%'},\n",
    "                font_family=font,\n",
    "                #legend={'orientation':'h', 'yanchor':\"bottom\",'y':1.02,'xanchor':\"right\",'x':1},\n",
    "                margin=dict(t=30, r=10, l=10, b=10)\n",
    "            )\n"
   ]
  },
  {
   "cell_type": "code",
   "execution_count": 12,
   "metadata": {},
   "outputs": [],
   "source": [
    "fig_1_1.write_image(\"fig_1_1.png\", width='600', scale=1.5)"
   ]
  },
  {
   "cell_type": "markdown",
   "metadata": {},
   "source": [
    "### Figure 1.2 GHG emissions along the production chain"
   ]
  },
  {
   "cell_type": "code",
   "execution_count": 13,
   "metadata": {},
   "outputs": [],
   "source": [
    "#text\n",
    "fig_1_2_title='Wie entstehen die Treibhausgasemissionen in der Landwirtschaft?'\n",
    "fig_1_2_description='''Da Energie vor allem in der Industrie ebenfalls ein wichtiger Treiber des Klimawandels ist, konzentrieren sich die aktuellen Gegenmaßnahmen hauptsächlich auf den Einsatz erneuerbarer Energien, einer Steigerung der Energieeffizienz und einer kohlenstoffarmen Verkehrsalternative. \n",
    "                Nachgelagerte Prozesse wie die Verarbeitung, Verpackung und Transport der Lebensmittel können durch die Weiterentwicklungen im Energiebereich reduziert werden. Jedoch sind <font color='#CC0000'>nachgelagerte Prozesse z.B. Verpackung und Transport</font> nur einen geringen Teil (15%) der Emissionen in der Lebensmittelindustrie verantwortlich. \n",
    "                Dies widerlegt auch die verbreitete Annahme, dass regionale Lebensmittel die Lösung für eine nachhaltige Ernährung sind.<br>\n",
    "                Der Großteil der Treibhausgasemissionen entsteht hier nämlich in der <font color='#E39617'>Landwirtschaft</font> (39%) und durch die <font color='#1D7151'>Flächennutzung</font> (32%). Hier gibt es aktuell noch keine praktikablen Lösungen, um diesen Emissionen entgegen zu wirken. \n",
    "                Dünger ist unersetzlich, um den wachsenden Nahrungsmittelbedarf zu decken und die Methanproduktion von Rindern kann nicht verhindert werden. Deswegen benötigen wir vor allem eine Verbesserung der landwirtschaftlichen Effizienz und neue Technologien, um kohlenstoffarme Lebensmittel skalierbar und erschwinglich zu machen.<br>\n",
    "               <font color='#CCAD99'> Nach dem Verkauf</font> an den Endkunden entstehen weitere Emissionen hauptsächlich in Form von Abfall. Als Endverbraucher ist die Vermeidung von Lebensmittelverschwendung eine gute Möglichkeit, um die Emissionen zu senken.'''"
   ]
  },
  {
   "cell_type": "code",
   "execution_count": 14,
   "metadata": {},
   "outputs": [
    {
     "data": {
      "application/vnd.plotly.v1+json": {
       "config": {
        "plotlyServerURL": "https://plot.ly"
       },
       "data": [
        {
         "customdata": [
          "Flächennutzung",
          "Landwirtschaftliche Erzeugung",
          "Lieferkette",
          "Lieferkette",
          "Lieferkette",
          "Lieferkette",
          "Nach dem Verkauf",
          "Nach dem Verkauf"
         ],
         "hovertemplate": "<b>%{customdata[0]}</b><extra></extra>",
         "hovertext": [
          "Bewirtung der Böden und<br>Veränderung der<br>Landnutzung (z.B. Rodung)",
          " Düngung, Tierhaltung,<br>Kraftstoffverbrauch,<br>Düngemittelproduktion,<br>etc.",
          "Lebensmittelverarbeitung",
          "Transport",
          "Verpackung",
          "Vertrieb",
          "Zubereitung durch den<br>Konsumenten",
          "Abfall"
         ],
         "insidetextorientation": "horizontal",
         "labels": [
          "Bewirtung der Böden und<br>Veränderung der<br>Landnutzung (z.B. Rodung)",
          " Düngung, Tierhaltung,<br>Kraftstoffverbrauch,<br>Düngemittelproduktion,<br>etc.",
          "Lebensmittelverarbeitung",
          "Transport",
          "Verpackung",
          "Vertrieb",
          "Zubereitung durch den<br>Konsumenten",
          "Abfall"
         ],
         "marker": {
          "colors": [
           "#1D7151",
           "#E39617",
           "#CC0000",
           "#CC0000",
           "#CC0000",
           "#CC0000",
           "#E3DCCA",
           "#E3DCCA"
          ],
          "line": {
           "color": "#fff",
           "width": 1
          }
         },
         "showlegend": false,
         "sort": false,
         "textfont": {
          "family": "Roboto-light, Gravitas One, Raleway, Arial, sans-serif"
         },
         "textinfo": "label+percent",
         "type": "pie",
         "values": [
          0.32,
          0.39,
          0.035,
          0.048,
          0.055,
          0.04,
          0.025,
          0.086
         ]
        }
       ],
       "layout": {
        "margin": {
         "b": 10,
         "l": 10,
         "r": 10,
         "t": 30
        },
        "template": {
         "data": {
          "bar": [
           {
            "error_x": {
             "color": "#2a3f5f"
            },
            "error_y": {
             "color": "#2a3f5f"
            },
            "marker": {
             "line": {
              "color": "#E5ECF6",
              "width": 0.5
             },
             "pattern": {
              "fillmode": "overlay",
              "size": 10,
              "solidity": 0.2
             }
            },
            "type": "bar"
           }
          ],
          "barpolar": [
           {
            "marker": {
             "line": {
              "color": "#E5ECF6",
              "width": 0.5
             },
             "pattern": {
              "fillmode": "overlay",
              "size": 10,
              "solidity": 0.2
             }
            },
            "type": "barpolar"
           }
          ],
          "carpet": [
           {
            "aaxis": {
             "endlinecolor": "#2a3f5f",
             "gridcolor": "white",
             "linecolor": "white",
             "minorgridcolor": "white",
             "startlinecolor": "#2a3f5f"
            },
            "baxis": {
             "endlinecolor": "#2a3f5f",
             "gridcolor": "white",
             "linecolor": "white",
             "minorgridcolor": "white",
             "startlinecolor": "#2a3f5f"
            },
            "type": "carpet"
           }
          ],
          "choropleth": [
           {
            "colorbar": {
             "outlinewidth": 0,
             "ticks": ""
            },
            "type": "choropleth"
           }
          ],
          "contour": [
           {
            "colorbar": {
             "outlinewidth": 0,
             "ticks": ""
            },
            "colorscale": [
             [
              0,
              "#0d0887"
             ],
             [
              0.1111111111111111,
              "#46039f"
             ],
             [
              0.2222222222222222,
              "#7201a8"
             ],
             [
              0.3333333333333333,
              "#9c179e"
             ],
             [
              0.4444444444444444,
              "#bd3786"
             ],
             [
              0.5555555555555556,
              "#d8576b"
             ],
             [
              0.6666666666666666,
              "#ed7953"
             ],
             [
              0.7777777777777778,
              "#fb9f3a"
             ],
             [
              0.8888888888888888,
              "#fdca26"
             ],
             [
              1,
              "#f0f921"
             ]
            ],
            "type": "contour"
           }
          ],
          "contourcarpet": [
           {
            "colorbar": {
             "outlinewidth": 0,
             "ticks": ""
            },
            "type": "contourcarpet"
           }
          ],
          "heatmap": [
           {
            "colorbar": {
             "outlinewidth": 0,
             "ticks": ""
            },
            "colorscale": [
             [
              0,
              "#0d0887"
             ],
             [
              0.1111111111111111,
              "#46039f"
             ],
             [
              0.2222222222222222,
              "#7201a8"
             ],
             [
              0.3333333333333333,
              "#9c179e"
             ],
             [
              0.4444444444444444,
              "#bd3786"
             ],
             [
              0.5555555555555556,
              "#d8576b"
             ],
             [
              0.6666666666666666,
              "#ed7953"
             ],
             [
              0.7777777777777778,
              "#fb9f3a"
             ],
             [
              0.8888888888888888,
              "#fdca26"
             ],
             [
              1,
              "#f0f921"
             ]
            ],
            "type": "heatmap"
           }
          ],
          "heatmapgl": [
           {
            "colorbar": {
             "outlinewidth": 0,
             "ticks": ""
            },
            "colorscale": [
             [
              0,
              "#0d0887"
             ],
             [
              0.1111111111111111,
              "#46039f"
             ],
             [
              0.2222222222222222,
              "#7201a8"
             ],
             [
              0.3333333333333333,
              "#9c179e"
             ],
             [
              0.4444444444444444,
              "#bd3786"
             ],
             [
              0.5555555555555556,
              "#d8576b"
             ],
             [
              0.6666666666666666,
              "#ed7953"
             ],
             [
              0.7777777777777778,
              "#fb9f3a"
             ],
             [
              0.8888888888888888,
              "#fdca26"
             ],
             [
              1,
              "#f0f921"
             ]
            ],
            "type": "heatmapgl"
           }
          ],
          "histogram": [
           {
            "marker": {
             "pattern": {
              "fillmode": "overlay",
              "size": 10,
              "solidity": 0.2
             }
            },
            "type": "histogram"
           }
          ],
          "histogram2d": [
           {
            "colorbar": {
             "outlinewidth": 0,
             "ticks": ""
            },
            "colorscale": [
             [
              0,
              "#0d0887"
             ],
             [
              0.1111111111111111,
              "#46039f"
             ],
             [
              0.2222222222222222,
              "#7201a8"
             ],
             [
              0.3333333333333333,
              "#9c179e"
             ],
             [
              0.4444444444444444,
              "#bd3786"
             ],
             [
              0.5555555555555556,
              "#d8576b"
             ],
             [
              0.6666666666666666,
              "#ed7953"
             ],
             [
              0.7777777777777778,
              "#fb9f3a"
             ],
             [
              0.8888888888888888,
              "#fdca26"
             ],
             [
              1,
              "#f0f921"
             ]
            ],
            "type": "histogram2d"
           }
          ],
          "histogram2dcontour": [
           {
            "colorbar": {
             "outlinewidth": 0,
             "ticks": ""
            },
            "colorscale": [
             [
              0,
              "#0d0887"
             ],
             [
              0.1111111111111111,
              "#46039f"
             ],
             [
              0.2222222222222222,
              "#7201a8"
             ],
             [
              0.3333333333333333,
              "#9c179e"
             ],
             [
              0.4444444444444444,
              "#bd3786"
             ],
             [
              0.5555555555555556,
              "#d8576b"
             ],
             [
              0.6666666666666666,
              "#ed7953"
             ],
             [
              0.7777777777777778,
              "#fb9f3a"
             ],
             [
              0.8888888888888888,
              "#fdca26"
             ],
             [
              1,
              "#f0f921"
             ]
            ],
            "type": "histogram2dcontour"
           }
          ],
          "mesh3d": [
           {
            "colorbar": {
             "outlinewidth": 0,
             "ticks": ""
            },
            "type": "mesh3d"
           }
          ],
          "parcoords": [
           {
            "line": {
             "colorbar": {
              "outlinewidth": 0,
              "ticks": ""
             }
            },
            "type": "parcoords"
           }
          ],
          "pie": [
           {
            "automargin": true,
            "type": "pie"
           }
          ],
          "scatter": [
           {
            "marker": {
             "colorbar": {
              "outlinewidth": 0,
              "ticks": ""
             }
            },
            "type": "scatter"
           }
          ],
          "scatter3d": [
           {
            "line": {
             "colorbar": {
              "outlinewidth": 0,
              "ticks": ""
             }
            },
            "marker": {
             "colorbar": {
              "outlinewidth": 0,
              "ticks": ""
             }
            },
            "type": "scatter3d"
           }
          ],
          "scattercarpet": [
           {
            "marker": {
             "colorbar": {
              "outlinewidth": 0,
              "ticks": ""
             }
            },
            "type": "scattercarpet"
           }
          ],
          "scattergeo": [
           {
            "marker": {
             "colorbar": {
              "outlinewidth": 0,
              "ticks": ""
             }
            },
            "type": "scattergeo"
           }
          ],
          "scattergl": [
           {
            "marker": {
             "colorbar": {
              "outlinewidth": 0,
              "ticks": ""
             }
            },
            "type": "scattergl"
           }
          ],
          "scattermapbox": [
           {
            "marker": {
             "colorbar": {
              "outlinewidth": 0,
              "ticks": ""
             }
            },
            "type": "scattermapbox"
           }
          ],
          "scatterpolar": [
           {
            "marker": {
             "colorbar": {
              "outlinewidth": 0,
              "ticks": ""
             }
            },
            "type": "scatterpolar"
           }
          ],
          "scatterpolargl": [
           {
            "marker": {
             "colorbar": {
              "outlinewidth": 0,
              "ticks": ""
             }
            },
            "type": "scatterpolargl"
           }
          ],
          "scatterternary": [
           {
            "marker": {
             "colorbar": {
              "outlinewidth": 0,
              "ticks": ""
             }
            },
            "type": "scatterternary"
           }
          ],
          "surface": [
           {
            "colorbar": {
             "outlinewidth": 0,
             "ticks": ""
            },
            "colorscale": [
             [
              0,
              "#0d0887"
             ],
             [
              0.1111111111111111,
              "#46039f"
             ],
             [
              0.2222222222222222,
              "#7201a8"
             ],
             [
              0.3333333333333333,
              "#9c179e"
             ],
             [
              0.4444444444444444,
              "#bd3786"
             ],
             [
              0.5555555555555556,
              "#d8576b"
             ],
             [
              0.6666666666666666,
              "#ed7953"
             ],
             [
              0.7777777777777778,
              "#fb9f3a"
             ],
             [
              0.8888888888888888,
              "#fdca26"
             ],
             [
              1,
              "#f0f921"
             ]
            ],
            "type": "surface"
           }
          ],
          "table": [
           {
            "cells": {
             "fill": {
              "color": "#EBF0F8"
             },
             "line": {
              "color": "white"
             }
            },
            "header": {
             "fill": {
              "color": "#C8D4E3"
             },
             "line": {
              "color": "white"
             }
            },
            "type": "table"
           }
          ]
         },
         "layout": {
          "annotationdefaults": {
           "arrowcolor": "#2a3f5f",
           "arrowhead": 0,
           "arrowwidth": 1
          },
          "autotypenumbers": "strict",
          "coloraxis": {
           "colorbar": {
            "outlinewidth": 0,
            "ticks": ""
           }
          },
          "colorscale": {
           "diverging": [
            [
             0,
             "#8e0152"
            ],
            [
             0.1,
             "#c51b7d"
            ],
            [
             0.2,
             "#de77ae"
            ],
            [
             0.3,
             "#f1b6da"
            ],
            [
             0.4,
             "#fde0ef"
            ],
            [
             0.5,
             "#f7f7f7"
            ],
            [
             0.6,
             "#e6f5d0"
            ],
            [
             0.7,
             "#b8e186"
            ],
            [
             0.8,
             "#7fbc41"
            ],
            [
             0.9,
             "#4d9221"
            ],
            [
             1,
             "#276419"
            ]
           ],
           "sequential": [
            [
             0,
             "#0d0887"
            ],
            [
             0.1111111111111111,
             "#46039f"
            ],
            [
             0.2222222222222222,
             "#7201a8"
            ],
            [
             0.3333333333333333,
             "#9c179e"
            ],
            [
             0.4444444444444444,
             "#bd3786"
            ],
            [
             0.5555555555555556,
             "#d8576b"
            ],
            [
             0.6666666666666666,
             "#ed7953"
            ],
            [
             0.7777777777777778,
             "#fb9f3a"
            ],
            [
             0.8888888888888888,
             "#fdca26"
            ],
            [
             1,
             "#f0f921"
            ]
           ],
           "sequentialminus": [
            [
             0,
             "#0d0887"
            ],
            [
             0.1111111111111111,
             "#46039f"
            ],
            [
             0.2222222222222222,
             "#7201a8"
            ],
            [
             0.3333333333333333,
             "#9c179e"
            ],
            [
             0.4444444444444444,
             "#bd3786"
            ],
            [
             0.5555555555555556,
             "#d8576b"
            ],
            [
             0.6666666666666666,
             "#ed7953"
            ],
            [
             0.7777777777777778,
             "#fb9f3a"
            ],
            [
             0.8888888888888888,
             "#fdca26"
            ],
            [
             1,
             "#f0f921"
            ]
           ]
          },
          "colorway": [
           "#636efa",
           "#EF553B",
           "#00cc96",
           "#ab63fa",
           "#FFA15A",
           "#19d3f3",
           "#FF6692",
           "#B6E880",
           "#FF97FF",
           "#FECB52"
          ],
          "font": {
           "color": "#2a3f5f"
          },
          "geo": {
           "bgcolor": "white",
           "lakecolor": "white",
           "landcolor": "#E5ECF6",
           "showlakes": true,
           "showland": true,
           "subunitcolor": "white"
          },
          "hoverlabel": {
           "align": "left"
          },
          "hovermode": "closest",
          "mapbox": {
           "style": "light"
          },
          "paper_bgcolor": "white",
          "plot_bgcolor": "#E5ECF6",
          "polar": {
           "angularaxis": {
            "gridcolor": "white",
            "linecolor": "white",
            "ticks": ""
           },
           "bgcolor": "#E5ECF6",
           "radialaxis": {
            "gridcolor": "white",
            "linecolor": "white",
            "ticks": ""
           }
          },
          "scene": {
           "xaxis": {
            "backgroundcolor": "#E5ECF6",
            "gridcolor": "white",
            "gridwidth": 2,
            "linecolor": "white",
            "showbackground": true,
            "ticks": "",
            "zerolinecolor": "white"
           },
           "yaxis": {
            "backgroundcolor": "#E5ECF6",
            "gridcolor": "white",
            "gridwidth": 2,
            "linecolor": "white",
            "showbackground": true,
            "ticks": "",
            "zerolinecolor": "white"
           },
           "zaxis": {
            "backgroundcolor": "#E5ECF6",
            "gridcolor": "white",
            "gridwidth": 2,
            "linecolor": "white",
            "showbackground": true,
            "ticks": "",
            "zerolinecolor": "white"
           }
          },
          "shapedefaults": {
           "line": {
            "color": "#2a3f5f"
           }
          },
          "ternary": {
           "aaxis": {
            "gridcolor": "white",
            "linecolor": "white",
            "ticks": ""
           },
           "baxis": {
            "gridcolor": "white",
            "linecolor": "white",
            "ticks": ""
           },
           "bgcolor": "#E5ECF6",
           "caxis": {
            "gridcolor": "white",
            "linecolor": "white",
            "ticks": ""
           }
          },
          "title": {
           "x": 0.05
          },
          "xaxis": {
           "automargin": true,
           "gridcolor": "white",
           "linecolor": "white",
           "ticks": "",
           "title": {
            "standoff": 15
           },
           "zerolinecolor": "white",
           "zerolinewidth": 2
          },
          "yaxis": {
           "automargin": true,
           "gridcolor": "white",
           "linecolor": "white",
           "ticks": "",
           "title": {
            "standoff": 15
           },
           "zerolinecolor": "white",
           "zerolinewidth": 2
          }
         }
        },
        "title": {
         "font": {
          "family": "Montserrat-Regular, Raleway, sans-serif"
         },
         "text": "Ursprung der Treibhausgasemissionen der Lebensmittelindustrie",
         "x": 0,
         "y": 1
        }
       }
      }
     },
     "metadata": {},
     "output_type": "display_data"
    }
   ],
   "source": [
    "#figure\n",
    "df_impact_steps = pd.read_csv('../Dashboard/fig2_emissions-food-per-step.csv', delimiter=';')\n",
    "\n",
    "#Change Datatypes\n",
    "df_impact_steps['step']=df_impact_steps['step'].astype('category')\n",
    "df_impact_steps['detail']=df_impact_steps['detail'].astype('category')\n",
    "\n",
    "#Add constant column\n",
    "#df_impact_steps['sector']='Food Industry'\n",
    "\n",
    "fig_1_2=go.Figure([\n",
    "        #Bar 1 : Lebensmittelindustrie\n",
    "        go.Pie(values=df_impact_steps['percentage'], \n",
    "                labels=df_impact_steps['detail'].str.wrap(25).apply(lambda x: x.replace('\\n', '<br>')),\n",
    "                #text\n",
    "                insidetextorientation='horizontal',\n",
    "                showlegend=False,\n",
    "                sort=False,\n",
    "                customdata=df_impact_steps['step'],\n",
    "                #hovertext\n",
    "                hovertext=df_impact_steps['detail'].str.wrap(25).apply(lambda x: x.replace('\\n', '<br>')),\n",
    "                hovertemplate=\"<b>%{customdata[0]}</b><extra></extra>\"\n",
    "                )\n",
    "])\n",
    "\n",
    "#Styling\n",
    "fig_1_2.update_traces(textinfo='label+percent', \n",
    "    marker={'colors': [colors[0], colors[1], colors[2], colors[2], colors[2], colors[2], colors[3], colors[3]],\n",
    "    'line':{'color': '#fff', 'width': 1}},\n",
    "    textfont_family=font,\n",
    "    )\n",
    "fig_1_2.update_layout(\n",
    "            title={'text':\"Ursprung der Treibhausgasemissionen der Lebensmittelindustrie\",'font_family':'Montserrat-Regular, Raleway, sans-serif', 'x':0, 'y':1},\n",
    "            margin=dict(t=30, b=10, l=10, r=10)\n",
    "            )"
   ]
  },
  {
   "cell_type": "code",
   "execution_count": 15,
   "metadata": {},
   "outputs": [],
   "source": [
    "fig_1_2.write_image(\"fig_1_2.png\", width='600', scale=1.5)"
   ]
  },
  {
   "cell_type": "markdown",
   "metadata": {},
   "source": [
    "### Figure 1.3 Global distribution of GHG Emissions by food production"
   ]
  },
  {
   "cell_type": "code",
   "execution_count": 16,
   "metadata": {},
   "outputs": [],
   "source": [
    "#text\n",
    "fig_1_3_title='Die Treibhausgasemissionen der Länder unterscheiden sich stark.'\n",
    "fig_1_3_description='''Die Grafik zeigt die Emissionen jedes Landes, die bei der Produktion von Lebensmitteln entstanden sind und nicht, wo diese Lebensmittel dann tatsächlich konsumiert wurden. Je dunkler ein Land, desto mehr Emissionen entstehen dort.\n",
    "                    Das bedeutet, wenn Brasilien Regenwald abrodet, um Fleisch für die USA zu produzieren, werden die Emissionen Brasilien zugeordnet. \n",
    "                    Auf diese Weise melden die Länder ihre Emissionen an die Vereinten Nationen und legen Klimaziele fest.<br>\n",
    "                    Fünf Staaten haben einen Anteil <b>über 5%</b> an den globalen Emissionen der Lebensmittelindustrie: <font color='#B35900'>China (13,8%/2,42 Mrd. t), Indonesien (8,8%/1,58 Mrd. t), USA (8,2%/1,47 Mrd. t), Brasilien (7,4%/1,32 Mrd. t) und Indien (6,3%/1,13 Mrd. t)</font>. <br>\n",
    "                    Diese Länder waren zu erwarten, da sie sich entweder durch eine hohe Bevölkerungszahl und/oder einen großen Agrarsektor auszeichnen. Allerdings gibt es eine große Lücke zwischen diesen Ländern und dem Rest der Welt. Nach Indien folgt erst wieder Russland mit 465 Mio. t (2,6%).'''"
   ]
  },
  {
   "cell_type": "code",
   "execution_count": 17,
   "metadata": {},
   "outputs": [],
   "source": [
    "#preparation\n",
    "df_world = pd.read_csv('../Dashboard/fig3_global_ghg_emissions.csv')\n",
    "#Change datatypes\n",
    "df_world['Entity']=df_world['Entity'].astype('category')\n",
    "df_world['Code']=df_world['Code'].astype('category')\n",
    "\n",
    "#load geojson\n",
    "with urlopen('https://raw.githubusercontent.com/johan/world.geo.json/master/countries.geo.json') as response:\n",
    "         world = json.load(response)"
   ]
  },
  {
   "cell_type": "code",
   "execution_count": 18,
   "metadata": {},
   "outputs": [
    {
     "data": {
      "text/plain": [
       "\"\\nfig_1_3.add_scattermapbox(\\n            lon=[100,48],\\n            lat=[80,50],\\n            mode = 'markers+text',\\n            below='',\\n            text = ['Russland:', 'USA'],  #a list of strings, one  for each geographical position  (lon, lat)\\n            marker_size=12, marker_color='rgb(235, 0, 100)')\\n            \""
      ]
     },
     "execution_count": 18,
     "metadata": {},
     "output_type": "execute_result"
    }
   ],
   "source": [
    "#figure\n",
    "df_world_total_sub=df_world[(df_world['Year'] == df_world['Year'].max()) & (~df_world['Entity'].isin(['World', 'Developing', 'Industrialized']))]\n",
    "\n",
    "colorscale = [(0.00, '#F2E6C2'), (0.16, '#F2E6C2'),\n",
    "                (0.16, '#F2C279'), (0.32, '#F2C279'),\n",
    "                (0.32, '#F2AA3D'),  (0.48, '#F2AA3D'),\n",
    "                (0.48, '#E39617'), (0.64, \"#E39617\"),\n",
    "                (0.64, '#CC7A14'),  (0.83, '#CC7A14'),\n",
    "                (0.83, '#B35900'),(1.0,'#B35900')]\n",
    "mapboxtoken=\"pk.eyJ1Ijoic2UwODkiLCJhIjoiY2t5YTJhdGJkMDFlNTJvcDh5dnMwc2xhMCJ9.oKhU7ogigoJsOEG85QHv3Q\"\n",
    "mapboxstyle=\"mapbox://styles/se089/ckya2d29s34ma16n2v9x5mz6g\"\n",
    "fig_1_3= px.choropleth_mapbox(\n",
    "        df_world_total_sub,\n",
    "        geojson=world,\n",
    "        locations=df_world_total_sub['Code'],\n",
    "        #colorscale\n",
    "        color=np.log10(df_world_total_sub['total_food_emissions'].astype(float)),\n",
    "        color_continuous_scale=colorscale,\n",
    "        range_color=(0, 3000000000),\n",
    "        \n",
    "        #custom data for hover\n",
    "        custom_data= [df_world_total_sub['Entity'], df_world_total_sub['total_food_emissions'], df_world_total_sub['share_food_emissions']],\n",
    "        \n",
    "        #position map\n",
    "        mapbox_style=dict(accesstoken=mapboxtoken,\n",
    "                          center=dict(lat=-20, lon=-20),\n",
    "                          style='light', # change mapbox style\n",
    "                          zoom=1),\n",
    "        zoom=0.7,\n",
    "        center={'lat': 10, 'lon': 10},\n",
    "        opacity=0.8,\n",
    "        labels=df_world_total_sub['Entity'],\n",
    "        \n",
    "    )\n",
    "#customize colorbar, change number formatting\n",
    "fig_1_3.update_coloraxes(colorbar_x=-0.1,\n",
    "    \n",
    "    colorbar_tickfont=dict(family=font)\n",
    "    )\n",
    "\n",
    "fig_1_3.update_traces(\n",
    "    z=df_world_total_sub['total_food_emissions'].astype(float), zmin=0,\n",
    "    zmax=df_world[~df_world['Entity'].isin(['World', 'Developing', 'Industrialized'])]['total_food_emissions'].max(),\n",
    "    \n",
    "    hovertemplate=\"<b>%{customdata[0]}:</b><br>Emissionen: %{customdata[1]:,r} t</br>Anteil an globalen Emissionen: %{customdata[2]:.2%} \"\n",
    "\n",
    ")\n",
    "fig_1_3.update_layout(coloraxis_colorbar=dict(\n",
    "    title=\"Emissionen <br> in t\",\n",
    "    tick0=0,\n",
    "    dtick=500000000,\n",
    "    titleside='bottom'\n",
    "    ),\n",
    "    title={'text':\"Globale Treibhausgasemissionen der Landwirtschaft in t\",'font_family':'Montserrat-Regular, Raleway, sans-serif','x':0, 'y':1},\n",
    "            margin=dict(t=30, b=10, l=10, r=10),\n",
    "    mapbox={\"accesstoken\":mapboxtoken, 'style':'white-bg'}\n",
    "    )\n",
    "\"\"\"\n",
    "fig_1_3.add_scattermapbox(\n",
    "            lon=[100,48],\n",
    "            lat=[80,50],\n",
    "            mode = 'markers+text',\n",
    "            below='',\n",
    "            text = ['Russland:', 'USA'],  #a list of strings, one  for each geographical position  (lon, lat)\n",
    "            marker_size=12, marker_color='rgb(235, 0, 100)')\n",
    "            \"\"\""
   ]
  },
  {
   "cell_type": "code",
   "execution_count": 19,
   "metadata": {},
   "outputs": [],
   "source": [
    "fig_1_3.write_image(\"fig_1_3.png\", width='1200', scale=1.5)"
   ]
  },
  {
   "cell_type": "code",
   "execution_count": 20,
   "metadata": {},
   "outputs": [
    {
     "data": {
      "text/plain": [
       "['#1D7151',\n",
       " '#E39617',\n",
       " '#CC0000',\n",
       " '#E3DCCA',\n",
       " '#505C5D',\n",
       " '#8FBF99',\n",
       " '#F2C279',\n",
       " '#F2AA91',\n",
       " '#CCAD99',\n",
       " '#ACBFBF']"
      ]
     },
     "execution_count": 20,
     "metadata": {},
     "output_type": "execute_result"
    }
   ],
   "source": [
    "colors"
   ]
  },
  {
   "cell_type": "markdown",
   "metadata": {},
   "source": [
    "### Figure 1.4 Evolution of global GHG Emissions"
   ]
  },
  {
   "cell_type": "code",
   "execution_count": 21,
   "metadata": {},
   "outputs": [],
   "source": [
    "#text\n",
    "fig_1_4_title='Die gesamten Treibhausgasemissionen steigen.'\n",
    "fig_1_4_description='''Bei prozentualer Ansicht scheint es, als würde der Anteil der <font color='#1D7151'>Lebensmittelindustrie</font> an den <font color='#CC0000'>globalen</font> Emissionen sinken. Die absolute Anzahl der Emissionen stagniert jedoch in den letzten 20 Jahren bei ungefähr 17 Milliarden Tonnen jährlich. <br>\n",
    "                Dagegen steigt die Summe aller globalen Treibhausgasemissionen stetig an (2015 rund 50 Milliarden Tonnen). Der Anstieg kann u.a. auf ein hohes Bevölkerungswachstum und die andauernde Nutzung fossiler Brennstoffe zurückgeführt werden.\n",
    "                '''"
   ]
  },
  {
   "cell_type": "code",
   "execution_count": 22,
   "metadata": {},
   "outputs": [
    {
     "data": {
      "application/vnd.plotly.v1+json": {
       "config": {
        "plotlyServerURL": "https://plot.ly"
       },
       "data": [
        {
         "hovertemplate": "%{y:,r}",
         "marker": {
          "color": "#CC0000"
         },
         "mode": "lines",
         "name": "Gesamt",
         "type": "scatter",
         "x": [
          1990,
          1991,
          1992,
          1993,
          1994,
          1995,
          1996,
          1997,
          1998,
          1999,
          2000,
          2001,
          2002,
          2003,
          2004,
          2005,
          2006,
          2007,
          2008,
          2009,
          2010,
          2011,
          2012,
          2013,
          2014,
          2015
         ],
         "y": [
          34967340000,
          35125440000,
          34985530000,
          35079630000,
          35287610000,
          36012630000,
          36025050000,
          37342500000,
          36976630000,
          36810090000,
          37420920000,
          38379960000,
          39824700000,
          40678670000,
          42452220000,
          43354520000,
          43723500000,
          44584430000,
          44952270000,
          44936190000,
          46552370000,
          47802540000,
          48348770000,
          48961600000,
          49440790000,
          49854980000
         ]
        },
        {
         "hovertemplate": "%{y:,r}",
         "marker": {
          "color": "#1D7151"
         },
         "mode": "lines",
         "name": "Lebensmittelindustrie",
         "type": "scatter",
         "x": [
          1990,
          1991,
          1992,
          1993,
          1994,
          1995,
          1996,
          1997,
          1998,
          1999,
          2000,
          2001,
          2002,
          2003,
          2004,
          2005,
          2006,
          2007,
          2008,
          2009,
          2010,
          2011,
          2012,
          2013,
          2014,
          2015
         ],
         "y": [
          16187557910,
          16223703430,
          16244516600,
          16247814780,
          16379451730,
          16660851600.000002,
          16182385040,
          17197404980,
          16643294890.000002,
          16384303670.000002,
          16225966760,
          15840100540,
          16898506119.999998,
          16809786499.999998,
          17525752330,
          17532040950,
          17587865290,
          17335041540,
          17411496880,
          17713820950,
          17559564410,
          17094679550,
          17213704610,
          17248841160,
          17542783970,
          17912345750
         ]
        }
       ],
       "layout": {
        "font": {
         "family": "Roboto-light, Gravitas One, Raleway, Arial, sans-serif"
        },
        "hovermode": "x unified",
        "margin": {
         "b": 10,
         "l": 10,
         "r": 10,
         "t": 30
        },
        "template": {
         "data": {
          "bar": [
           {
            "error_x": {
             "color": "#2a3f5f"
            },
            "error_y": {
             "color": "#2a3f5f"
            },
            "marker": {
             "line": {
              "color": "#E5ECF6",
              "width": 0.5
             },
             "pattern": {
              "fillmode": "overlay",
              "size": 10,
              "solidity": 0.2
             }
            },
            "type": "bar"
           }
          ],
          "barpolar": [
           {
            "marker": {
             "line": {
              "color": "#E5ECF6",
              "width": 0.5
             },
             "pattern": {
              "fillmode": "overlay",
              "size": 10,
              "solidity": 0.2
             }
            },
            "type": "barpolar"
           }
          ],
          "carpet": [
           {
            "aaxis": {
             "endlinecolor": "#2a3f5f",
             "gridcolor": "white",
             "linecolor": "white",
             "minorgridcolor": "white",
             "startlinecolor": "#2a3f5f"
            },
            "baxis": {
             "endlinecolor": "#2a3f5f",
             "gridcolor": "white",
             "linecolor": "white",
             "minorgridcolor": "white",
             "startlinecolor": "#2a3f5f"
            },
            "type": "carpet"
           }
          ],
          "choropleth": [
           {
            "colorbar": {
             "outlinewidth": 0,
             "ticks": ""
            },
            "type": "choropleth"
           }
          ],
          "contour": [
           {
            "colorbar": {
             "outlinewidth": 0,
             "ticks": ""
            },
            "colorscale": [
             [
              0,
              "#0d0887"
             ],
             [
              0.1111111111111111,
              "#46039f"
             ],
             [
              0.2222222222222222,
              "#7201a8"
             ],
             [
              0.3333333333333333,
              "#9c179e"
             ],
             [
              0.4444444444444444,
              "#bd3786"
             ],
             [
              0.5555555555555556,
              "#d8576b"
             ],
             [
              0.6666666666666666,
              "#ed7953"
             ],
             [
              0.7777777777777778,
              "#fb9f3a"
             ],
             [
              0.8888888888888888,
              "#fdca26"
             ],
             [
              1,
              "#f0f921"
             ]
            ],
            "type": "contour"
           }
          ],
          "contourcarpet": [
           {
            "colorbar": {
             "outlinewidth": 0,
             "ticks": ""
            },
            "type": "contourcarpet"
           }
          ],
          "heatmap": [
           {
            "colorbar": {
             "outlinewidth": 0,
             "ticks": ""
            },
            "colorscale": [
             [
              0,
              "#0d0887"
             ],
             [
              0.1111111111111111,
              "#46039f"
             ],
             [
              0.2222222222222222,
              "#7201a8"
             ],
             [
              0.3333333333333333,
              "#9c179e"
             ],
             [
              0.4444444444444444,
              "#bd3786"
             ],
             [
              0.5555555555555556,
              "#d8576b"
             ],
             [
              0.6666666666666666,
              "#ed7953"
             ],
             [
              0.7777777777777778,
              "#fb9f3a"
             ],
             [
              0.8888888888888888,
              "#fdca26"
             ],
             [
              1,
              "#f0f921"
             ]
            ],
            "type": "heatmap"
           }
          ],
          "heatmapgl": [
           {
            "colorbar": {
             "outlinewidth": 0,
             "ticks": ""
            },
            "colorscale": [
             [
              0,
              "#0d0887"
             ],
             [
              0.1111111111111111,
              "#46039f"
             ],
             [
              0.2222222222222222,
              "#7201a8"
             ],
             [
              0.3333333333333333,
              "#9c179e"
             ],
             [
              0.4444444444444444,
              "#bd3786"
             ],
             [
              0.5555555555555556,
              "#d8576b"
             ],
             [
              0.6666666666666666,
              "#ed7953"
             ],
             [
              0.7777777777777778,
              "#fb9f3a"
             ],
             [
              0.8888888888888888,
              "#fdca26"
             ],
             [
              1,
              "#f0f921"
             ]
            ],
            "type": "heatmapgl"
           }
          ],
          "histogram": [
           {
            "marker": {
             "pattern": {
              "fillmode": "overlay",
              "size": 10,
              "solidity": 0.2
             }
            },
            "type": "histogram"
           }
          ],
          "histogram2d": [
           {
            "colorbar": {
             "outlinewidth": 0,
             "ticks": ""
            },
            "colorscale": [
             [
              0,
              "#0d0887"
             ],
             [
              0.1111111111111111,
              "#46039f"
             ],
             [
              0.2222222222222222,
              "#7201a8"
             ],
             [
              0.3333333333333333,
              "#9c179e"
             ],
             [
              0.4444444444444444,
              "#bd3786"
             ],
             [
              0.5555555555555556,
              "#d8576b"
             ],
             [
              0.6666666666666666,
              "#ed7953"
             ],
             [
              0.7777777777777778,
              "#fb9f3a"
             ],
             [
              0.8888888888888888,
              "#fdca26"
             ],
             [
              1,
              "#f0f921"
             ]
            ],
            "type": "histogram2d"
           }
          ],
          "histogram2dcontour": [
           {
            "colorbar": {
             "outlinewidth": 0,
             "ticks": ""
            },
            "colorscale": [
             [
              0,
              "#0d0887"
             ],
             [
              0.1111111111111111,
              "#46039f"
             ],
             [
              0.2222222222222222,
              "#7201a8"
             ],
             [
              0.3333333333333333,
              "#9c179e"
             ],
             [
              0.4444444444444444,
              "#bd3786"
             ],
             [
              0.5555555555555556,
              "#d8576b"
             ],
             [
              0.6666666666666666,
              "#ed7953"
             ],
             [
              0.7777777777777778,
              "#fb9f3a"
             ],
             [
              0.8888888888888888,
              "#fdca26"
             ],
             [
              1,
              "#f0f921"
             ]
            ],
            "type": "histogram2dcontour"
           }
          ],
          "mesh3d": [
           {
            "colorbar": {
             "outlinewidth": 0,
             "ticks": ""
            },
            "type": "mesh3d"
           }
          ],
          "parcoords": [
           {
            "line": {
             "colorbar": {
              "outlinewidth": 0,
              "ticks": ""
             }
            },
            "type": "parcoords"
           }
          ],
          "pie": [
           {
            "automargin": true,
            "type": "pie"
           }
          ],
          "scatter": [
           {
            "marker": {
             "colorbar": {
              "outlinewidth": 0,
              "ticks": ""
             }
            },
            "type": "scatter"
           }
          ],
          "scatter3d": [
           {
            "line": {
             "colorbar": {
              "outlinewidth": 0,
              "ticks": ""
             }
            },
            "marker": {
             "colorbar": {
              "outlinewidth": 0,
              "ticks": ""
             }
            },
            "type": "scatter3d"
           }
          ],
          "scattercarpet": [
           {
            "marker": {
             "colorbar": {
              "outlinewidth": 0,
              "ticks": ""
             }
            },
            "type": "scattercarpet"
           }
          ],
          "scattergeo": [
           {
            "marker": {
             "colorbar": {
              "outlinewidth": 0,
              "ticks": ""
             }
            },
            "type": "scattergeo"
           }
          ],
          "scattergl": [
           {
            "marker": {
             "colorbar": {
              "outlinewidth": 0,
              "ticks": ""
             }
            },
            "type": "scattergl"
           }
          ],
          "scattermapbox": [
           {
            "marker": {
             "colorbar": {
              "outlinewidth": 0,
              "ticks": ""
             }
            },
            "type": "scattermapbox"
           }
          ],
          "scatterpolar": [
           {
            "marker": {
             "colorbar": {
              "outlinewidth": 0,
              "ticks": ""
             }
            },
            "type": "scatterpolar"
           }
          ],
          "scatterpolargl": [
           {
            "marker": {
             "colorbar": {
              "outlinewidth": 0,
              "ticks": ""
             }
            },
            "type": "scatterpolargl"
           }
          ],
          "scatterternary": [
           {
            "marker": {
             "colorbar": {
              "outlinewidth": 0,
              "ticks": ""
             }
            },
            "type": "scatterternary"
           }
          ],
          "surface": [
           {
            "colorbar": {
             "outlinewidth": 0,
             "ticks": ""
            },
            "colorscale": [
             [
              0,
              "#0d0887"
             ],
             [
              0.1111111111111111,
              "#46039f"
             ],
             [
              0.2222222222222222,
              "#7201a8"
             ],
             [
              0.3333333333333333,
              "#9c179e"
             ],
             [
              0.4444444444444444,
              "#bd3786"
             ],
             [
              0.5555555555555556,
              "#d8576b"
             ],
             [
              0.6666666666666666,
              "#ed7953"
             ],
             [
              0.7777777777777778,
              "#fb9f3a"
             ],
             [
              0.8888888888888888,
              "#fdca26"
             ],
             [
              1,
              "#f0f921"
             ]
            ],
            "type": "surface"
           }
          ],
          "table": [
           {
            "cells": {
             "fill": {
              "color": "#EBF0F8"
             },
             "line": {
              "color": "white"
             }
            },
            "header": {
             "fill": {
              "color": "#C8D4E3"
             },
             "line": {
              "color": "white"
             }
            },
            "type": "table"
           }
          ]
         },
         "layout": {
          "annotationdefaults": {
           "arrowcolor": "#2a3f5f",
           "arrowhead": 0,
           "arrowwidth": 1
          },
          "autotypenumbers": "strict",
          "coloraxis": {
           "colorbar": {
            "outlinewidth": 0,
            "ticks": ""
           }
          },
          "colorscale": {
           "diverging": [
            [
             0,
             "#8e0152"
            ],
            [
             0.1,
             "#c51b7d"
            ],
            [
             0.2,
             "#de77ae"
            ],
            [
             0.3,
             "#f1b6da"
            ],
            [
             0.4,
             "#fde0ef"
            ],
            [
             0.5,
             "#f7f7f7"
            ],
            [
             0.6,
             "#e6f5d0"
            ],
            [
             0.7,
             "#b8e186"
            ],
            [
             0.8,
             "#7fbc41"
            ],
            [
             0.9,
             "#4d9221"
            ],
            [
             1,
             "#276419"
            ]
           ],
           "sequential": [
            [
             0,
             "#0d0887"
            ],
            [
             0.1111111111111111,
             "#46039f"
            ],
            [
             0.2222222222222222,
             "#7201a8"
            ],
            [
             0.3333333333333333,
             "#9c179e"
            ],
            [
             0.4444444444444444,
             "#bd3786"
            ],
            [
             0.5555555555555556,
             "#d8576b"
            ],
            [
             0.6666666666666666,
             "#ed7953"
            ],
            [
             0.7777777777777778,
             "#fb9f3a"
            ],
            [
             0.8888888888888888,
             "#fdca26"
            ],
            [
             1,
             "#f0f921"
            ]
           ],
           "sequentialminus": [
            [
             0,
             "#0d0887"
            ],
            [
             0.1111111111111111,
             "#46039f"
            ],
            [
             0.2222222222222222,
             "#7201a8"
            ],
            [
             0.3333333333333333,
             "#9c179e"
            ],
            [
             0.4444444444444444,
             "#bd3786"
            ],
            [
             0.5555555555555556,
             "#d8576b"
            ],
            [
             0.6666666666666666,
             "#ed7953"
            ],
            [
             0.7777777777777778,
             "#fb9f3a"
            ],
            [
             0.8888888888888888,
             "#fdca26"
            ],
            [
             1,
             "#f0f921"
            ]
           ]
          },
          "colorway": [
           "#636efa",
           "#EF553B",
           "#00cc96",
           "#ab63fa",
           "#FFA15A",
           "#19d3f3",
           "#FF6692",
           "#B6E880",
           "#FF97FF",
           "#FECB52"
          ],
          "font": {
           "color": "#2a3f5f"
          },
          "geo": {
           "bgcolor": "white",
           "lakecolor": "white",
           "landcolor": "#E5ECF6",
           "showlakes": true,
           "showland": true,
           "subunitcolor": "white"
          },
          "hoverlabel": {
           "align": "left"
          },
          "hovermode": "closest",
          "mapbox": {
           "style": "light"
          },
          "paper_bgcolor": "white",
          "plot_bgcolor": "#E5ECF6",
          "polar": {
           "angularaxis": {
            "gridcolor": "white",
            "linecolor": "white",
            "ticks": ""
           },
           "bgcolor": "#E5ECF6",
           "radialaxis": {
            "gridcolor": "white",
            "linecolor": "white",
            "ticks": ""
           }
          },
          "scene": {
           "xaxis": {
            "backgroundcolor": "#E5ECF6",
            "gridcolor": "white",
            "gridwidth": 2,
            "linecolor": "white",
            "showbackground": true,
            "ticks": "",
            "zerolinecolor": "white"
           },
           "yaxis": {
            "backgroundcolor": "#E5ECF6",
            "gridcolor": "white",
            "gridwidth": 2,
            "linecolor": "white",
            "showbackground": true,
            "ticks": "",
            "zerolinecolor": "white"
           },
           "zaxis": {
            "backgroundcolor": "#E5ECF6",
            "gridcolor": "white",
            "gridwidth": 2,
            "linecolor": "white",
            "showbackground": true,
            "ticks": "",
            "zerolinecolor": "white"
           }
          },
          "shapedefaults": {
           "line": {
            "color": "#2a3f5f"
           }
          },
          "ternary": {
           "aaxis": {
            "gridcolor": "white",
            "linecolor": "white",
            "ticks": ""
           },
           "baxis": {
            "gridcolor": "white",
            "linecolor": "white",
            "ticks": ""
           },
           "bgcolor": "#E5ECF6",
           "caxis": {
            "gridcolor": "white",
            "linecolor": "white",
            "ticks": ""
           }
          },
          "title": {
           "x": 0.05
          },
          "xaxis": {
           "automargin": true,
           "gridcolor": "white",
           "linecolor": "white",
           "ticks": "",
           "title": {
            "standoff": 15
           },
           "zerolinecolor": "white",
           "zerolinewidth": 2
          },
          "yaxis": {
           "automargin": true,
           "gridcolor": "white",
           "linecolor": "white",
           "ticks": "",
           "title": {
            "standoff": 15
           },
           "zerolinecolor": "white",
           "zerolinewidth": 2
          }
         }
        },
        "title": {
         "font": {
          "family": "Montserrat-Regular, Raleway, sans-serif"
         },
         "text": "Entwicklung der Treibhausgasemissionen der <b style='color:#1D7151'>Landwirtschaft</b> und <b style='color:#CC0000'>gesamt</b>",
         "x": 0,
         "y": 1
        },
        "xaxis": {
         "dtick": 3,
         "tick0": 1992
        },
        "yaxis": {
         "rangemode": "tozero"
        }
       }
      }
     },
     "metadata": {},
     "output_type": "display_data"
    }
   ],
   "source": [
    "#figure\n",
    "df_world_total_sub=df_world[df_world['Entity'].isin(['World'])]\n",
    "\n",
    "#line-graph\n",
    "fig_1_4 = go.Figure()\n",
    "fig_1_4.add_trace(go.Scatter(x=df_world_total_sub['Year'], y=df_world_total_sub['total_ghg'],\n",
    "                    mode='lines',\n",
    "                    marker_color=colors[2],\n",
    "                    name='Gesamt'))\n",
    "fig_1_4.add_trace(go.Scatter(x=df_world_total_sub['Year'], y=df_world_total_sub['total_food_emissions'], marker_color=colors[0],\n",
    "    mode='lines',\n",
    "    name='Lebensmittelindustrie'))\n",
    "\n",
    "fig_1_4.update_traces(mode=\"lines\", hovertemplate='%{y:,r}')\n",
    "fig_1_4.update_layout(hovermode=\"x unified\",\n",
    "    margin=dict(t=30, b=10, l=10, r=10),\n",
    "    #legend={'orientation':'h', 'yanchor':\"bottom\",'y':1.01,'xanchor':\"right\",'x':1},\n",
    "    font_family=font,\n",
    "    title={'text':\"Entwicklung der Treibhausgasemissionen der <b style='color:#1D7151'>Landwirtschaft</b> und <b style='color:#CC0000'>gesamt</b>\",'font_family':'Montserrat-Regular, Raleway, sans-serif','x':0, 'y':1.0}\n",
    "    )\n",
    "fig_1_4.update_yaxes(rangemode=\"tozero\")\n",
    "fig_1_4.update_xaxes(tick0=1992, dtick=3)"
   ]
  },
  {
   "cell_type": "code",
   "execution_count": 23,
   "metadata": {},
   "outputs": [],
   "source": [
    "fig_1_4.write_image(\"fig_1_4.png\", width='800', scale=1.5)"
   ]
  },
  {
   "cell_type": "markdown",
   "metadata": {},
   "source": [
    "## 2 Environmental Impact of single foods\n",
    "### Figure 2.1 GHG-emissions, freshwater- and land-use of single foods"
   ]
  },
  {
   "cell_type": "code",
   "execution_count": 24,
   "metadata": {},
   "outputs": [],
   "source": [
    "#text\n",
    "fig_2_1_title='Welche Lebensmittel sind besonders umweltschädlich?'\n",
    "fig_2_1_description='''Wichtige Faktoren um den negativen Einfluss von Lebensmitteln auf unsere Umwelt zu messen sind <b>Fläche, Süßwasserverbrauch</b> und <b>CO2-Emissionen</b>. Die Grafik zeigt diese Faktoren anhand ausgewählter Lebensmittel.\n",
    "                    Zur besseren Vergleichbarkeit der einzelnen Lebensmittel beziehen sich alle Werte auf 1000 kcal des Produkts.<br>\n",
    "                    Im Vergleich zu <font color='#1D7151'>pflanzlichen</font> Lebensmitteln, erzeugen <font color='#CC0000'>Fleisch und Fisch</font> deutlich mehr Emissionen. Zudem haben sie durch die Tierhaltung und Produktion von Futtermitteln einen höheren Flächen- und Süßwasserverbrauch.\n",
    "                    '''"
   ]
  },
  {
   "cell_type": "code",
   "execution_count": 25,
   "metadata": {},
   "outputs": [],
   "source": [
    "#preparation\n",
    "df_impact_single = pd.read_csv('../Dashboard/fig4_effect_of_different_foods.csv')\n",
    "df_impact_single['Entity']=df_impact_single['Entity'].astype('category')\n",
    "df_impact_single['category']=df_impact_single['category'].astype('category')\n",
    "\n",
    "#Drop rows with missing values\n",
    "df_impact_single=df_impact_single.dropna()\n",
    "\n",
    "#subset with selected foods\n",
    "df_impact_single_sub1=df_impact_single[df_impact_single['Entity'].isin(['Apfel', 'Banane', 'Kartoffeln', 'Tofu', 'Rindfleisch (Milchvieh)', 'Milch', 'Rindfleisch (Fleischzucht)', 'Hühnerfleisch', 'Käse',  'Fisch', \n",
    "            'Gerste','Palmöl', 'Dunkle Schokolade', 'Kaffee'])]"
   ]
  },
  {
   "cell_type": "code",
   "execution_count": 26,
   "metadata": {},
   "outputs": [
    {
     "data": {
      "application/vnd.plotly.v1+json": {
       "config": {
        "plotlyServerURL": "https://plot.ly"
       },
       "data": [
        {
         "hoverinfo": "skip",
         "legendgroup": "Fleisch & Fisch",
         "marker": {
          "color": "#CC0000",
          "size": [
           531.5750916,
           994.2490842,
           2062.178771,
           356.7567568
          ],
          "sizemode": "area",
          "sizeref": 0.8248715083999999,
          "symbol": "circle"
         },
         "mode": "markers",
         "name": "Fleisch & Fisch",
         "orientation": "v",
         "showlegend": true,
         "text": [
          "Rindfleisch (Fleischzucht)",
          "Rindfleisch (Milchvieh)",
          "Fisch",
          "Hühnerfleisch"
         ],
         "type": "scatter",
         "x": [
          36.43956044,
          12.1978022,
          7.61452514,
          5.335135135
         ],
         "xaxis": "x",
         "y": [
          119.4908425,
          15.83882784,
          4.698324022,
          6.605405405
         ],
         "yaxis": "y"
        },
        {
         "hoverinfo": "skip",
         "legendgroup": "Milchprodukte & Eier",
         "marker": {
          "color": "#E39617",
          "size": [
           1448.372093,
           1047
          ],
          "sizemode": "area",
          "sizeref": 0.8248715083999999,
          "symbol": "circle"
         },
         "mode": "markers",
         "name": "Milchprodukte & Eier",
         "orientation": "v",
         "showlegend": true,
         "text": [
          "Käse",
          "Milch"
         ],
         "type": "scatter",
         "x": [
          6.170542636,
          5.25
         ],
         "xaxis": "x",
         "y": [
          22.68475452,
          14.91666667
         ],
         "yaxis": "y"
        },
        {
         "hoverinfo": "skip",
         "legendgroup": "Pflanzliche Produkte",
         "marker": {
          "color": "#1D7151",
          "size": [
           375.2083333,
           190.8333333,
           80.73770492,
           54.83394834
          ],
          "sizemode": "area",
          "sizeref": 0.8248715083999999,
          "symbol": "circle"
         },
         "mode": "markers",
         "name": "Pflanzliche Produkte",
         "orientation": "v",
         "showlegend": true,
         "text": [
          "Apfel",
          "Banane",
          "Kartoffeln",
          "Tofu"
         ],
         "type": "scatter",
         "x": [
          0.895833333,
          1.433333333,
          0.628415301,
          1.166051661
         ],
         "xaxis": "x",
         "y": [
          1.3125,
          3.216666667,
          1.202185792,
          1.298892989
         ],
         "yaxis": "y"
        },
        {
         "hoverinfo": "skip",
         "legendgroup": "Getreide",
         "marker": {
          "color": "#CCAD99",
          "size": [
           3.42
          ],
          "sizemode": "area",
          "sizeref": 0.8248715083999999,
          "symbol": "circle"
         },
         "mode": "markers",
         "name": "Getreide",
         "orientation": "v",
         "showlegend": true,
         "text": [
          "Gerste"
         ],
         "type": "scatter",
         "x": [
          0.236
         ],
         "xaxis": "x",
         "y": [
          0.222
         ],
         "yaxis": "y"
        },
        {
         "hoverinfo": "skip",
         "legendgroup": "Öle & Fette",
         "marker": {
          "color": "#8FBF99",
          "size": [
           0.7239819
          ],
          "sizemode": "area",
          "sizeref": 0.8248715083999999,
          "symbol": "circle"
         },
         "mode": "markers",
         "name": "Öle & Fette",
         "orientation": "v",
         "showlegend": true,
         "text": [
          "Palmöl"
         ],
         "type": "scatter",
         "x": [
          0.828054299
         ],
         "xaxis": "x",
         "y": [
          0.273755656
         ],
         "yaxis": "y"
        },
        {
         "hoverinfo": "skip",
         "legendgroup": "Süßes",
         "marker": {
          "color": "#505C5D",
          "size": [
           104.5647969
          ],
          "sizemode": "area",
          "sizeref": 0.8248715083999999,
          "symbol": "circle"
         },
         "mode": "markers",
         "name": "Süßes",
         "orientation": "v",
         "showlegend": true,
         "text": [
          "Dunkle Schokolade"
         ],
         "type": "scatter",
         "x": [
          9.023210832
         ],
         "xaxis": "x",
         "y": [
          13.3384913
         ],
         "yaxis": "y"
        },
        {
         "hoverinfo": "skip",
         "legendgroup": "Getränke",
         "marker": {
          "color": "#F2C279",
          "size": [
           46.25
          ],
          "sizemode": "area",
          "sizeref": 0.8248715083999999,
          "symbol": "circle"
         },
         "mode": "markers",
         "name": "Getränke",
         "orientation": "v",
         "showlegend": true,
         "text": [
          "Kaffee"
         ],
         "type": "scatter",
         "x": [
          50.94642857
         ],
         "xaxis": "x",
         "y": [
          38.60714286
         ],
         "yaxis": "y"
        }
       ],
       "layout": {
        "annotations": [
         {
          "ax": 0,
          "ay": -40,
          "showarrow": true,
          "text": "Apfel, Kartoffeln, <br>Banane, Tofu, <br>Gerste, Palmöl",
          "x": 1,
          "y": 7,
          "yshift": 5
         },
         {
          "ax": 0,
          "ay": -35,
          "showarrow": true,
          "text": "Käse",
          "x": 6.2,
          "xshift": 0,
          "y": 30
         },
         {
          "ax": -20,
          "ay": -70,
          "showarrow": true,
          "text": "Milch",
          "x": 5,
          "xshift": 0,
          "y": 14.5
         },
         {
          "ax": -10,
          "ay": 30,
          "showarrow": true,
          "text": "Hühnerfleisch",
          "x": 5,
          "xshift": 0,
          "y": 6,
          "yshift": -10
         },
         {
          "ax": 20,
          "ay": 50,
          "showarrow": true,
          "text": "Fisch",
          "x": 8,
          "xshift": 0,
          "y": 5
         },
         {
          "ax": 15,
          "ay": 40,
          "showarrow": true,
          "text": "Rindfleisch<br>(Milchvieh)",
          "x": 12.5,
          "xshift": 0,
          "y": 14
         },
         {
          "ax": 27,
          "ay": -50,
          "showarrow": true,
          "text": "Dunkle<br>Schokolade",
          "x": 9,
          "y": 13
         },
         {
          "ax": 0,
          "ay": 35,
          "showarrow": true,
          "text": "Rindfleisch (Fleischzucht)",
          "x": 36.5,
          "xshift": 0,
          "y": 118
         },
         {
          "ax": 0,
          "ay": -25,
          "showarrow": true,
          "text": "Kaffee",
          "x": 51,
          "y": 38.5
         }
        ],
        "font": {
         "family": "Roboto-light, Gravitas One, Raleway, Arial, sans-serif"
        },
        "legend": {
         "itemsizing": "constant",
         "title": {},
         "tracegroupgap": 0
        },
        "margin": {
         "b": 10,
         "l": 10,
         "r": 10,
         "t": 30
        },
        "template": {
         "data": {
          "bar": [
           {
            "error_x": {
             "color": "#2a3f5f"
            },
            "error_y": {
             "color": "#2a3f5f"
            },
            "marker": {
             "line": {
              "color": "#E5ECF6",
              "width": 0.5
             },
             "pattern": {
              "fillmode": "overlay",
              "size": 10,
              "solidity": 0.2
             }
            },
            "type": "bar"
           }
          ],
          "barpolar": [
           {
            "marker": {
             "line": {
              "color": "#E5ECF6",
              "width": 0.5
             },
             "pattern": {
              "fillmode": "overlay",
              "size": 10,
              "solidity": 0.2
             }
            },
            "type": "barpolar"
           }
          ],
          "carpet": [
           {
            "aaxis": {
             "endlinecolor": "#2a3f5f",
             "gridcolor": "white",
             "linecolor": "white",
             "minorgridcolor": "white",
             "startlinecolor": "#2a3f5f"
            },
            "baxis": {
             "endlinecolor": "#2a3f5f",
             "gridcolor": "white",
             "linecolor": "white",
             "minorgridcolor": "white",
             "startlinecolor": "#2a3f5f"
            },
            "type": "carpet"
           }
          ],
          "choropleth": [
           {
            "colorbar": {
             "outlinewidth": 0,
             "ticks": ""
            },
            "type": "choropleth"
           }
          ],
          "contour": [
           {
            "colorbar": {
             "outlinewidth": 0,
             "ticks": ""
            },
            "colorscale": [
             [
              0,
              "#0d0887"
             ],
             [
              0.1111111111111111,
              "#46039f"
             ],
             [
              0.2222222222222222,
              "#7201a8"
             ],
             [
              0.3333333333333333,
              "#9c179e"
             ],
             [
              0.4444444444444444,
              "#bd3786"
             ],
             [
              0.5555555555555556,
              "#d8576b"
             ],
             [
              0.6666666666666666,
              "#ed7953"
             ],
             [
              0.7777777777777778,
              "#fb9f3a"
             ],
             [
              0.8888888888888888,
              "#fdca26"
             ],
             [
              1,
              "#f0f921"
             ]
            ],
            "type": "contour"
           }
          ],
          "contourcarpet": [
           {
            "colorbar": {
             "outlinewidth": 0,
             "ticks": ""
            },
            "type": "contourcarpet"
           }
          ],
          "heatmap": [
           {
            "colorbar": {
             "outlinewidth": 0,
             "ticks": ""
            },
            "colorscale": [
             [
              0,
              "#0d0887"
             ],
             [
              0.1111111111111111,
              "#46039f"
             ],
             [
              0.2222222222222222,
              "#7201a8"
             ],
             [
              0.3333333333333333,
              "#9c179e"
             ],
             [
              0.4444444444444444,
              "#bd3786"
             ],
             [
              0.5555555555555556,
              "#d8576b"
             ],
             [
              0.6666666666666666,
              "#ed7953"
             ],
             [
              0.7777777777777778,
              "#fb9f3a"
             ],
             [
              0.8888888888888888,
              "#fdca26"
             ],
             [
              1,
              "#f0f921"
             ]
            ],
            "type": "heatmap"
           }
          ],
          "heatmapgl": [
           {
            "colorbar": {
             "outlinewidth": 0,
             "ticks": ""
            },
            "colorscale": [
             [
              0,
              "#0d0887"
             ],
             [
              0.1111111111111111,
              "#46039f"
             ],
             [
              0.2222222222222222,
              "#7201a8"
             ],
             [
              0.3333333333333333,
              "#9c179e"
             ],
             [
              0.4444444444444444,
              "#bd3786"
             ],
             [
              0.5555555555555556,
              "#d8576b"
             ],
             [
              0.6666666666666666,
              "#ed7953"
             ],
             [
              0.7777777777777778,
              "#fb9f3a"
             ],
             [
              0.8888888888888888,
              "#fdca26"
             ],
             [
              1,
              "#f0f921"
             ]
            ],
            "type": "heatmapgl"
           }
          ],
          "histogram": [
           {
            "marker": {
             "pattern": {
              "fillmode": "overlay",
              "size": 10,
              "solidity": 0.2
             }
            },
            "type": "histogram"
           }
          ],
          "histogram2d": [
           {
            "colorbar": {
             "outlinewidth": 0,
             "ticks": ""
            },
            "colorscale": [
             [
              0,
              "#0d0887"
             ],
             [
              0.1111111111111111,
              "#46039f"
             ],
             [
              0.2222222222222222,
              "#7201a8"
             ],
             [
              0.3333333333333333,
              "#9c179e"
             ],
             [
              0.4444444444444444,
              "#bd3786"
             ],
             [
              0.5555555555555556,
              "#d8576b"
             ],
             [
              0.6666666666666666,
              "#ed7953"
             ],
             [
              0.7777777777777778,
              "#fb9f3a"
             ],
             [
              0.8888888888888888,
              "#fdca26"
             ],
             [
              1,
              "#f0f921"
             ]
            ],
            "type": "histogram2d"
           }
          ],
          "histogram2dcontour": [
           {
            "colorbar": {
             "outlinewidth": 0,
             "ticks": ""
            },
            "colorscale": [
             [
              0,
              "#0d0887"
             ],
             [
              0.1111111111111111,
              "#46039f"
             ],
             [
              0.2222222222222222,
              "#7201a8"
             ],
             [
              0.3333333333333333,
              "#9c179e"
             ],
             [
              0.4444444444444444,
              "#bd3786"
             ],
             [
              0.5555555555555556,
              "#d8576b"
             ],
             [
              0.6666666666666666,
              "#ed7953"
             ],
             [
              0.7777777777777778,
              "#fb9f3a"
             ],
             [
              0.8888888888888888,
              "#fdca26"
             ],
             [
              1,
              "#f0f921"
             ]
            ],
            "type": "histogram2dcontour"
           }
          ],
          "mesh3d": [
           {
            "colorbar": {
             "outlinewidth": 0,
             "ticks": ""
            },
            "type": "mesh3d"
           }
          ],
          "parcoords": [
           {
            "line": {
             "colorbar": {
              "outlinewidth": 0,
              "ticks": ""
             }
            },
            "type": "parcoords"
           }
          ],
          "pie": [
           {
            "automargin": true,
            "type": "pie"
           }
          ],
          "scatter": [
           {
            "marker": {
             "colorbar": {
              "outlinewidth": 0,
              "ticks": ""
             }
            },
            "type": "scatter"
           }
          ],
          "scatter3d": [
           {
            "line": {
             "colorbar": {
              "outlinewidth": 0,
              "ticks": ""
             }
            },
            "marker": {
             "colorbar": {
              "outlinewidth": 0,
              "ticks": ""
             }
            },
            "type": "scatter3d"
           }
          ],
          "scattercarpet": [
           {
            "marker": {
             "colorbar": {
              "outlinewidth": 0,
              "ticks": ""
             }
            },
            "type": "scattercarpet"
           }
          ],
          "scattergeo": [
           {
            "marker": {
             "colorbar": {
              "outlinewidth": 0,
              "ticks": ""
             }
            },
            "type": "scattergeo"
           }
          ],
          "scattergl": [
           {
            "marker": {
             "colorbar": {
              "outlinewidth": 0,
              "ticks": ""
             }
            },
            "type": "scattergl"
           }
          ],
          "scattermapbox": [
           {
            "marker": {
             "colorbar": {
              "outlinewidth": 0,
              "ticks": ""
             }
            },
            "type": "scattermapbox"
           }
          ],
          "scatterpolar": [
           {
            "marker": {
             "colorbar": {
              "outlinewidth": 0,
              "ticks": ""
             }
            },
            "type": "scatterpolar"
           }
          ],
          "scatterpolargl": [
           {
            "marker": {
             "colorbar": {
              "outlinewidth": 0,
              "ticks": ""
             }
            },
            "type": "scatterpolargl"
           }
          ],
          "scatterternary": [
           {
            "marker": {
             "colorbar": {
              "outlinewidth": 0,
              "ticks": ""
             }
            },
            "type": "scatterternary"
           }
          ],
          "surface": [
           {
            "colorbar": {
             "outlinewidth": 0,
             "ticks": ""
            },
            "colorscale": [
             [
              0,
              "#0d0887"
             ],
             [
              0.1111111111111111,
              "#46039f"
             ],
             [
              0.2222222222222222,
              "#7201a8"
             ],
             [
              0.3333333333333333,
              "#9c179e"
             ],
             [
              0.4444444444444444,
              "#bd3786"
             ],
             [
              0.5555555555555556,
              "#d8576b"
             ],
             [
              0.6666666666666666,
              "#ed7953"
             ],
             [
              0.7777777777777778,
              "#fb9f3a"
             ],
             [
              0.8888888888888888,
              "#fdca26"
             ],
             [
              1,
              "#f0f921"
             ]
            ],
            "type": "surface"
           }
          ],
          "table": [
           {
            "cells": {
             "fill": {
              "color": "#EBF0F8"
             },
             "line": {
              "color": "white"
             }
            },
            "header": {
             "fill": {
              "color": "#C8D4E3"
             },
             "line": {
              "color": "white"
             }
            },
            "type": "table"
           }
          ]
         },
         "layout": {
          "annotationdefaults": {
           "arrowcolor": "#2a3f5f",
           "arrowhead": 0,
           "arrowwidth": 1
          },
          "autotypenumbers": "strict",
          "coloraxis": {
           "colorbar": {
            "outlinewidth": 0,
            "ticks": ""
           }
          },
          "colorscale": {
           "diverging": [
            [
             0,
             "#8e0152"
            ],
            [
             0.1,
             "#c51b7d"
            ],
            [
             0.2,
             "#de77ae"
            ],
            [
             0.3,
             "#f1b6da"
            ],
            [
             0.4,
             "#fde0ef"
            ],
            [
             0.5,
             "#f7f7f7"
            ],
            [
             0.6,
             "#e6f5d0"
            ],
            [
             0.7,
             "#b8e186"
            ],
            [
             0.8,
             "#7fbc41"
            ],
            [
             0.9,
             "#4d9221"
            ],
            [
             1,
             "#276419"
            ]
           ],
           "sequential": [
            [
             0,
             "#0d0887"
            ],
            [
             0.1111111111111111,
             "#46039f"
            ],
            [
             0.2222222222222222,
             "#7201a8"
            ],
            [
             0.3333333333333333,
             "#9c179e"
            ],
            [
             0.4444444444444444,
             "#bd3786"
            ],
            [
             0.5555555555555556,
             "#d8576b"
            ],
            [
             0.6666666666666666,
             "#ed7953"
            ],
            [
             0.7777777777777778,
             "#fb9f3a"
            ],
            [
             0.8888888888888888,
             "#fdca26"
            ],
            [
             1,
             "#f0f921"
            ]
           ],
           "sequentialminus": [
            [
             0,
             "#0d0887"
            ],
            [
             0.1111111111111111,
             "#46039f"
            ],
            [
             0.2222222222222222,
             "#7201a8"
            ],
            [
             0.3333333333333333,
             "#9c179e"
            ],
            [
             0.4444444444444444,
             "#bd3786"
            ],
            [
             0.5555555555555556,
             "#d8576b"
            ],
            [
             0.6666666666666666,
             "#ed7953"
            ],
            [
             0.7777777777777778,
             "#fb9f3a"
            ],
            [
             0.8888888888888888,
             "#fdca26"
            ],
            [
             1,
             "#f0f921"
            ]
           ]
          },
          "colorway": [
           "#636efa",
           "#EF553B",
           "#00cc96",
           "#ab63fa",
           "#FFA15A",
           "#19d3f3",
           "#FF6692",
           "#B6E880",
           "#FF97FF",
           "#FECB52"
          ],
          "font": {
           "color": "#2a3f5f"
          },
          "geo": {
           "bgcolor": "white",
           "lakecolor": "white",
           "landcolor": "#E5ECF6",
           "showlakes": true,
           "showland": true,
           "subunitcolor": "white"
          },
          "hoverlabel": {
           "align": "left"
          },
          "hovermode": "closest",
          "mapbox": {
           "style": "light"
          },
          "paper_bgcolor": "white",
          "plot_bgcolor": "#E5ECF6",
          "polar": {
           "angularaxis": {
            "gridcolor": "white",
            "linecolor": "white",
            "ticks": ""
           },
           "bgcolor": "#E5ECF6",
           "radialaxis": {
            "gridcolor": "white",
            "linecolor": "white",
            "ticks": ""
           }
          },
          "scene": {
           "xaxis": {
            "backgroundcolor": "#E5ECF6",
            "gridcolor": "white",
            "gridwidth": 2,
            "linecolor": "white",
            "showbackground": true,
            "ticks": "",
            "zerolinecolor": "white"
           },
           "yaxis": {
            "backgroundcolor": "#E5ECF6",
            "gridcolor": "white",
            "gridwidth": 2,
            "linecolor": "white",
            "showbackground": true,
            "ticks": "",
            "zerolinecolor": "white"
           },
           "zaxis": {
            "backgroundcolor": "#E5ECF6",
            "gridcolor": "white",
            "gridwidth": 2,
            "linecolor": "white",
            "showbackground": true,
            "ticks": "",
            "zerolinecolor": "white"
           }
          },
          "shapedefaults": {
           "line": {
            "color": "#2a3f5f"
           }
          },
          "ternary": {
           "aaxis": {
            "gridcolor": "white",
            "linecolor": "white",
            "ticks": ""
           },
           "baxis": {
            "gridcolor": "white",
            "linecolor": "white",
            "ticks": ""
           },
           "bgcolor": "#E5ECF6",
           "caxis": {
            "gridcolor": "white",
            "linecolor": "white",
            "ticks": ""
           }
          },
          "title": {
           "x": 0.05
          },
          "xaxis": {
           "automargin": true,
           "gridcolor": "white",
           "linecolor": "white",
           "ticks": "",
           "title": {
            "standoff": 15
           },
           "zerolinecolor": "white",
           "zerolinewidth": 2
          },
          "yaxis": {
           "automargin": true,
           "gridcolor": "white",
           "linecolor": "white",
           "ticks": "",
           "title": {
            "standoff": 15
           },
           "zerolinecolor": "white",
           "zerolinewidth": 2
          }
         }
        },
        "title": {
         "font": {
          "family": "Montserrat-Regular, Raleway, sans-serif"
         },
         "text": "Umweltauswirkungen ausgewählter Lebensmittel",
         "x": 0,
         "y": 1
        },
        "xaxis": {
         "anchor": "y",
         "domain": [
          0,
          1
         ],
         "range": [
          -4.930081301,
          60.94642857
         ],
         "title": {
          "text": "Treibhausgasemissionen pro 1000kcal in KG"
         }
        },
        "yaxis": {
         "anchor": "x",
         "domain": [
          0,
          1
         ],
         "range": [
          -19.778,
          129.49084249999999
         ],
         "title": {
          "text": "Benötigte Fläche pro 1000kcal in m<sup>2</sup>"
         }
        }
       }
      }
     },
     "metadata": {},
     "output_type": "display_data"
    }
   ],
   "source": [
    "#figure\n",
    "# Create Scatterplot\n",
    "fig_2_1=px.scatter(df_impact_single_sub1, x=\"ghg\", y=\"land\",\n",
    "                    size=\"freshwater\", color=\"category\", \n",
    "                    #Define colors and order of legend\n",
    "                    color_discrete_map={\n",
    "                    \"Pflanzliche Produkte\": colors[0],\n",
    "                    \"Fleisch & Fisch\": colors[2],\n",
    "                    \"Milchprodukte & Eier\": colors[1],\n",
    "                    \"Süßes\": colors[4],\n",
    "                    \"Getreide\": colors[8],\n",
    "                    \"Getränke\": colors[6],\n",
    "                    \"Öle & Fette\": colors[5]},\n",
    "                    category_orders={\"category\": [\"Fleisch & Fisch\", \"Milchprodukte & Eier\", \"Pflanzliche Produkte\", \"Getreide\", \"Öle & Fette\", \"Süßes\", 'Getränke']},\n",
    "                    \n",
    "                    text=\"Entity\",\n",
    "                    size_max=50, \n",
    "                    #In order to avoid jumping, the range is set to min/max of both axis\n",
    "                    range_y =[df_impact_single['land'].min()-20, df_impact_single['land'].max()+10], range_x=[df_impact_single['ghg'].min()-5, df_impact_single['ghg'].max()+10]\n",
    "                    )\n",
    "#Update Styling Scatterplot\n",
    "\n",
    "#Axis labels\n",
    "fig_2_1.update_layout(\n",
    "            xaxis = {\"title\": \"Treibhausgasemissionen pro 1000kcal in KG\"},\n",
    "            yaxis={'title':'Benötigte Fläche pro 1000kcal in m<sup>2</sup>'},\n",
    "            font_family=font,\n",
    "            legend_title_text=None,\n",
    "            title={'text':\"Umweltauswirkungen ausgewählter Lebensmittel\",'font_family':'Montserrat-Regular, Raleway, sans-serif','x':0, 'y':1},\n",
    "            margin=dict(t=30, b=10, l=10, r=10)\n",
    "            )\n",
    "\n",
    "#Disable Hover labels\n",
    "fig_2_1.update_traces(mode='markers', hovertemplate=None, hoverinfo='skip')\n",
    "\n",
    "\n",
    "#Add annotations\n",
    "fig_2_1.add_annotation(x=1, y=7,\n",
    "            text=\"Apfel, Kartoffeln, <br>Banane, Tofu, <br>Gerste, Palmöl\",\n",
    "            showarrow=True,\n",
    "            ax=0,ay=-40,\n",
    "            yshift=5)\n",
    "fig_2_1.add_annotation(x=6.2, y=30,\n",
    "            text=\"Käse\",\n",
    "            showarrow=True,\n",
    "            ax=0, ay=-35,\n",
    "            xshift=0)\n",
    "fig_2_1.add_annotation(x=5, y=14.5,\n",
    "            text=\"Milch\",\n",
    "            showarrow=True,\n",
    "            ax=-20, ay=-70,\n",
    "            xshift=0)\n",
    "fig_2_1.add_annotation(x=5, y=6,\n",
    "            text=\"Hühnerfleisch\",\n",
    "            showarrow=True,\n",
    "            ax=-10,ay=30,\n",
    "            xshift=0, yshift=-10)\n",
    "fig_2_1.add_annotation(x=8, y=5,\n",
    "            text=\"Fisch\",\n",
    "            showarrow=True,\n",
    "            ax=20,ay=50,\n",
    "            xshift=0)\n",
    "fig_2_1.add_annotation(x=12.5, y=14,\n",
    "            text=\"Rindfleisch<br>(Milchvieh)\",\n",
    "            showarrow=True,\n",
    "            ax=15,ay=40,\n",
    "            xshift=0)\n",
    "fig_2_1.add_annotation(x=9, y=13,\n",
    "            text=\"Dunkle<br>Schokolade\",\n",
    "            showarrow=True,\n",
    "            ax=27,ay=-50)\n",
    "fig_2_1.add_annotation(x=36.5, y=118,\n",
    "            text=\"Rindfleisch (Fleischzucht)\",\n",
    "            showarrow=True,\n",
    "            ax=0,ay=35,\n",
    "            xshift=0)\n",
    "fig_2_1.add_annotation(x=51, y=38.5,\n",
    "            text=\"Kaffee\",\n",
    "            showarrow=True,\n",
    "            ax=0,ay=-25)\n"
   ]
  },
  {
   "cell_type": "code",
   "execution_count": 27,
   "metadata": {},
   "outputs": [],
   "source": [
    "fig_2_1.write_image(\"fig_2_1.png\", width='1200', scale=1.5)"
   ]
  },
  {
   "cell_type": "markdown",
   "metadata": {},
   "source": [
    "### Fig 2.2: Only plant products"
   ]
  },
  {
   "cell_type": "code",
   "execution_count": 28,
   "metadata": {},
   "outputs": [],
   "source": [
    "#text\n",
    "fig_2_2_title='Welche pflanzlichen Lebensmittel sind besonders umweltschädlich?'\n",
    "fig_2_2_description='''Wie die vorhergehende Abbildung zeigt, sind pflanzliche Produkte generell weniger klimaschädlich als tierische Produkte. Dies gilt auch für Öle und Getreide wie z.B. Gerste, Mais und Reis.<br>\n",
    "                    Betrachten wir diese Produkte genauer, sind <font color='#1D7151'>Tomaten</font> aufgrund des hohen Wasserbedarf am umweltschädlichsten. \n",
    "                    Die Werte der anderen Produkte liegen dicht im unteren Wertebereich beieinander.\n",
    "                    '''"
   ]
  },
  {
   "cell_type": "code",
   "execution_count": 29,
   "metadata": {},
   "outputs": [
    {
     "data": {
      "application/vnd.plotly.v1+json": {
       "config": {
        "plotlyServerURL": "https://plot.ly"
       },
       "data": [
        {
         "hoverinfo": "skip",
         "legendgroup": "Pflanzliche Produkte",
         "marker": {
          "color": "#1D7151",
          "size": [
           375.2083333,
           190.8333333,
           736.1403509,
           702.3529412,
           258.4375,
           80.73770492,
           54.83394834,
           1946.315789
          ],
          "sizemode": "area",
          "sizeref": 0.7785263156,
          "symbol": "circle"
         },
         "mode": "markers",
         "name": "Pflanzliche Produkte",
         "orientation": "v",
         "showlegend": true,
         "type": "scatter",
         "x": [
          0.895833333,
          1.433333333,
          2.684210526,
          3,
          1.21875,
          0.628415301,
          1.166051661,
          11
         ],
         "xaxis": "x",
         "y": [
          1.3125,
          3.216666667,
          4.228070175,
          3.235294118,
          2.6875,
          1.202185792,
          1.298892989,
          4.210526316
         ],
         "yaxis": "y"
        },
        {
         "hoverinfo": "skip",
         "legendgroup": "Getreide",
         "marker": {
          "color": "#CCAD99",
          "size": [
           3.42,
           47.69485904,
           609.9837222
          ],
          "sizemode": "area",
          "sizeref": 0.7785263156,
          "symbol": "circle"
         },
         "mode": "markers",
         "name": "Getreide",
         "orientation": "v",
         "showlegend": true,
         "type": "scatter",
         "x": [
          0.236,
          0.375898286,
          1.207270754
         ],
         "xaxis": "x",
         "y": [
          0.222,
          0.650082919,
          0.759631036
         ],
         "yaxis": "y"
        },
        {
         "hoverinfo": "skip",
         "legendgroup": "Öle & Fette",
         "marker": {
          "color": "#8FBF99",
          "size": [
           672.1626016,
           242.2850679
          ],
          "sizemode": "area",
          "sizeref": 0.7785263156,
          "symbol": "circle"
         },
         "mode": "markers",
         "name": "Öle & Fette",
         "orientation": "v",
         "showlegend": true,
         "type": "scatter",
         "x": [
          0.069918699,
          0.613122172
         ],
         "xaxis": "x",
         "y": [
          2.107317073,
          2.976244344
         ],
         "yaxis": "y"
        }
       ],
       "layout": {
        "annotations": [
         {
          "ax": 0,
          "ay": 0,
          "showarrow": false,
          "text": "Tomate",
          "x": 11,
          "y": 5.5
         },
         {
          "ax": 0,
          "ay": 0,
          "showarrow": false,
          "text": "Beeren",
          "x": 2.8,
          "y": 5.1
         },
         {
          "ax": 0,
          "ay": 0,
          "showarrow": false,
          "text": "Kohl",
          "x": 3.2,
          "y": 2.5
         },
         {
          "ax": 50,
          "ay": 10,
          "showarrow": true,
          "text": "Reis",
          "x": 1.2,
          "y": 0.7
         },
         {
          "ax": 20,
          "ay": -20,
          "showarrow": true,
          "text": "Tofu",
          "x": 1.16,
          "y": 1.3
         },
         {
          "ax": 0,
          "ay": 30,
          "showarrow": true,
          "text": "Gerste",
          "x": 0.22,
          "y": 0.2
         },
         {
          "ax": -25,
          "ay": 0,
          "showarrow": true,
          "text": "Mais",
          "x": 0.37,
          "y": 0.65
         },
         {
          "ax": 0,
          "ay": -35,
          "showarrow": true,
          "text": "Apfel",
          "x": 0.89,
          "y": 1.3
         },
         {
          "ax": 15,
          "ay": 50,
          "showarrow": true,
          "text": "Kartoffeln",
          "x": 0.62,
          "y": 1.2
         },
         {
          "ax": 0,
          "ay": 0,
          "showarrow": false,
          "text": "Nüsse",
          "x": 0.06,
          "y": 2.1
         },
         {
          "ax": 0,
          "ay": -60,
          "showarrow": true,
          "text": "Olivenöl",
          "x": 0.6,
          "y": 3
         },
         {
          "ax": 0,
          "ay": -30,
          "showarrow": true,
          "text": "Banane",
          "x": 1.45,
          "y": 3.2
         },
         {
          "ax": 35,
          "ay": 0,
          "showarrow": true,
          "text": "Zitrone",
          "x": 1.3,
          "y": 2.6
         }
        ],
        "font": {
         "family": "Roboto-light, Gravitas One, Raleway, Arial, sans-serif"
        },
        "legend": {
         "itemsizing": "constant",
         "title": {},
         "tracegroupgap": 0
        },
        "margin": {
         "b": 10,
         "l": 10,
         "r": 10,
         "t": 30
        },
        "template": {
         "data": {
          "bar": [
           {
            "error_x": {
             "color": "#2a3f5f"
            },
            "error_y": {
             "color": "#2a3f5f"
            },
            "marker": {
             "line": {
              "color": "#E5ECF6",
              "width": 0.5
             },
             "pattern": {
              "fillmode": "overlay",
              "size": 10,
              "solidity": 0.2
             }
            },
            "type": "bar"
           }
          ],
          "barpolar": [
           {
            "marker": {
             "line": {
              "color": "#E5ECF6",
              "width": 0.5
             },
             "pattern": {
              "fillmode": "overlay",
              "size": 10,
              "solidity": 0.2
             }
            },
            "type": "barpolar"
           }
          ],
          "carpet": [
           {
            "aaxis": {
             "endlinecolor": "#2a3f5f",
             "gridcolor": "white",
             "linecolor": "white",
             "minorgridcolor": "white",
             "startlinecolor": "#2a3f5f"
            },
            "baxis": {
             "endlinecolor": "#2a3f5f",
             "gridcolor": "white",
             "linecolor": "white",
             "minorgridcolor": "white",
             "startlinecolor": "#2a3f5f"
            },
            "type": "carpet"
           }
          ],
          "choropleth": [
           {
            "colorbar": {
             "outlinewidth": 0,
             "ticks": ""
            },
            "type": "choropleth"
           }
          ],
          "contour": [
           {
            "colorbar": {
             "outlinewidth": 0,
             "ticks": ""
            },
            "colorscale": [
             [
              0,
              "#0d0887"
             ],
             [
              0.1111111111111111,
              "#46039f"
             ],
             [
              0.2222222222222222,
              "#7201a8"
             ],
             [
              0.3333333333333333,
              "#9c179e"
             ],
             [
              0.4444444444444444,
              "#bd3786"
             ],
             [
              0.5555555555555556,
              "#d8576b"
             ],
             [
              0.6666666666666666,
              "#ed7953"
             ],
             [
              0.7777777777777778,
              "#fb9f3a"
             ],
             [
              0.8888888888888888,
              "#fdca26"
             ],
             [
              1,
              "#f0f921"
             ]
            ],
            "type": "contour"
           }
          ],
          "contourcarpet": [
           {
            "colorbar": {
             "outlinewidth": 0,
             "ticks": ""
            },
            "type": "contourcarpet"
           }
          ],
          "heatmap": [
           {
            "colorbar": {
             "outlinewidth": 0,
             "ticks": ""
            },
            "colorscale": [
             [
              0,
              "#0d0887"
             ],
             [
              0.1111111111111111,
              "#46039f"
             ],
             [
              0.2222222222222222,
              "#7201a8"
             ],
             [
              0.3333333333333333,
              "#9c179e"
             ],
             [
              0.4444444444444444,
              "#bd3786"
             ],
             [
              0.5555555555555556,
              "#d8576b"
             ],
             [
              0.6666666666666666,
              "#ed7953"
             ],
             [
              0.7777777777777778,
              "#fb9f3a"
             ],
             [
              0.8888888888888888,
              "#fdca26"
             ],
             [
              1,
              "#f0f921"
             ]
            ],
            "type": "heatmap"
           }
          ],
          "heatmapgl": [
           {
            "colorbar": {
             "outlinewidth": 0,
             "ticks": ""
            },
            "colorscale": [
             [
              0,
              "#0d0887"
             ],
             [
              0.1111111111111111,
              "#46039f"
             ],
             [
              0.2222222222222222,
              "#7201a8"
             ],
             [
              0.3333333333333333,
              "#9c179e"
             ],
             [
              0.4444444444444444,
              "#bd3786"
             ],
             [
              0.5555555555555556,
              "#d8576b"
             ],
             [
              0.6666666666666666,
              "#ed7953"
             ],
             [
              0.7777777777777778,
              "#fb9f3a"
             ],
             [
              0.8888888888888888,
              "#fdca26"
             ],
             [
              1,
              "#f0f921"
             ]
            ],
            "type": "heatmapgl"
           }
          ],
          "histogram": [
           {
            "marker": {
             "pattern": {
              "fillmode": "overlay",
              "size": 10,
              "solidity": 0.2
             }
            },
            "type": "histogram"
           }
          ],
          "histogram2d": [
           {
            "colorbar": {
             "outlinewidth": 0,
             "ticks": ""
            },
            "colorscale": [
             [
              0,
              "#0d0887"
             ],
             [
              0.1111111111111111,
              "#46039f"
             ],
             [
              0.2222222222222222,
              "#7201a8"
             ],
             [
              0.3333333333333333,
              "#9c179e"
             ],
             [
              0.4444444444444444,
              "#bd3786"
             ],
             [
              0.5555555555555556,
              "#d8576b"
             ],
             [
              0.6666666666666666,
              "#ed7953"
             ],
             [
              0.7777777777777778,
              "#fb9f3a"
             ],
             [
              0.8888888888888888,
              "#fdca26"
             ],
             [
              1,
              "#f0f921"
             ]
            ],
            "type": "histogram2d"
           }
          ],
          "histogram2dcontour": [
           {
            "colorbar": {
             "outlinewidth": 0,
             "ticks": ""
            },
            "colorscale": [
             [
              0,
              "#0d0887"
             ],
             [
              0.1111111111111111,
              "#46039f"
             ],
             [
              0.2222222222222222,
              "#7201a8"
             ],
             [
              0.3333333333333333,
              "#9c179e"
             ],
             [
              0.4444444444444444,
              "#bd3786"
             ],
             [
              0.5555555555555556,
              "#d8576b"
             ],
             [
              0.6666666666666666,
              "#ed7953"
             ],
             [
              0.7777777777777778,
              "#fb9f3a"
             ],
             [
              0.8888888888888888,
              "#fdca26"
             ],
             [
              1,
              "#f0f921"
             ]
            ],
            "type": "histogram2dcontour"
           }
          ],
          "mesh3d": [
           {
            "colorbar": {
             "outlinewidth": 0,
             "ticks": ""
            },
            "type": "mesh3d"
           }
          ],
          "parcoords": [
           {
            "line": {
             "colorbar": {
              "outlinewidth": 0,
              "ticks": ""
             }
            },
            "type": "parcoords"
           }
          ],
          "pie": [
           {
            "automargin": true,
            "type": "pie"
           }
          ],
          "scatter": [
           {
            "marker": {
             "colorbar": {
              "outlinewidth": 0,
              "ticks": ""
             }
            },
            "type": "scatter"
           }
          ],
          "scatter3d": [
           {
            "line": {
             "colorbar": {
              "outlinewidth": 0,
              "ticks": ""
             }
            },
            "marker": {
             "colorbar": {
              "outlinewidth": 0,
              "ticks": ""
             }
            },
            "type": "scatter3d"
           }
          ],
          "scattercarpet": [
           {
            "marker": {
             "colorbar": {
              "outlinewidth": 0,
              "ticks": ""
             }
            },
            "type": "scattercarpet"
           }
          ],
          "scattergeo": [
           {
            "marker": {
             "colorbar": {
              "outlinewidth": 0,
              "ticks": ""
             }
            },
            "type": "scattergeo"
           }
          ],
          "scattergl": [
           {
            "marker": {
             "colorbar": {
              "outlinewidth": 0,
              "ticks": ""
             }
            },
            "type": "scattergl"
           }
          ],
          "scattermapbox": [
           {
            "marker": {
             "colorbar": {
              "outlinewidth": 0,
              "ticks": ""
             }
            },
            "type": "scattermapbox"
           }
          ],
          "scatterpolar": [
           {
            "marker": {
             "colorbar": {
              "outlinewidth": 0,
              "ticks": ""
             }
            },
            "type": "scatterpolar"
           }
          ],
          "scatterpolargl": [
           {
            "marker": {
             "colorbar": {
              "outlinewidth": 0,
              "ticks": ""
             }
            },
            "type": "scatterpolargl"
           }
          ],
          "scatterternary": [
           {
            "marker": {
             "colorbar": {
              "outlinewidth": 0,
              "ticks": ""
             }
            },
            "type": "scatterternary"
           }
          ],
          "surface": [
           {
            "colorbar": {
             "outlinewidth": 0,
             "ticks": ""
            },
            "colorscale": [
             [
              0,
              "#0d0887"
             ],
             [
              0.1111111111111111,
              "#46039f"
             ],
             [
              0.2222222222222222,
              "#7201a8"
             ],
             [
              0.3333333333333333,
              "#9c179e"
             ],
             [
              0.4444444444444444,
              "#bd3786"
             ],
             [
              0.5555555555555556,
              "#d8576b"
             ],
             [
              0.6666666666666666,
              "#ed7953"
             ],
             [
              0.7777777777777778,
              "#fb9f3a"
             ],
             [
              0.8888888888888888,
              "#fdca26"
             ],
             [
              1,
              "#f0f921"
             ]
            ],
            "type": "surface"
           }
          ],
          "table": [
           {
            "cells": {
             "fill": {
              "color": "#EBF0F8"
             },
             "line": {
              "color": "white"
             }
            },
            "header": {
             "fill": {
              "color": "#C8D4E3"
             },
             "line": {
              "color": "white"
             }
            },
            "type": "table"
           }
          ]
         },
         "layout": {
          "annotationdefaults": {
           "arrowcolor": "#2a3f5f",
           "arrowhead": 0,
           "arrowwidth": 1
          },
          "autotypenumbers": "strict",
          "coloraxis": {
           "colorbar": {
            "outlinewidth": 0,
            "ticks": ""
           }
          },
          "colorscale": {
           "diverging": [
            [
             0,
             "#8e0152"
            ],
            [
             0.1,
             "#c51b7d"
            ],
            [
             0.2,
             "#de77ae"
            ],
            [
             0.3,
             "#f1b6da"
            ],
            [
             0.4,
             "#fde0ef"
            ],
            [
             0.5,
             "#f7f7f7"
            ],
            [
             0.6,
             "#e6f5d0"
            ],
            [
             0.7,
             "#b8e186"
            ],
            [
             0.8,
             "#7fbc41"
            ],
            [
             0.9,
             "#4d9221"
            ],
            [
             1,
             "#276419"
            ]
           ],
           "sequential": [
            [
             0,
             "#0d0887"
            ],
            [
             0.1111111111111111,
             "#46039f"
            ],
            [
             0.2222222222222222,
             "#7201a8"
            ],
            [
             0.3333333333333333,
             "#9c179e"
            ],
            [
             0.4444444444444444,
             "#bd3786"
            ],
            [
             0.5555555555555556,
             "#d8576b"
            ],
            [
             0.6666666666666666,
             "#ed7953"
            ],
            [
             0.7777777777777778,
             "#fb9f3a"
            ],
            [
             0.8888888888888888,
             "#fdca26"
            ],
            [
             1,
             "#f0f921"
            ]
           ],
           "sequentialminus": [
            [
             0,
             "#0d0887"
            ],
            [
             0.1111111111111111,
             "#46039f"
            ],
            [
             0.2222222222222222,
             "#7201a8"
            ],
            [
             0.3333333333333333,
             "#9c179e"
            ],
            [
             0.4444444444444444,
             "#bd3786"
            ],
            [
             0.5555555555555556,
             "#d8576b"
            ],
            [
             0.6666666666666666,
             "#ed7953"
            ],
            [
             0.7777777777777778,
             "#fb9f3a"
            ],
            [
             0.8888888888888888,
             "#fdca26"
            ],
            [
             1,
             "#f0f921"
            ]
           ]
          },
          "colorway": [
           "#636efa",
           "#EF553B",
           "#00cc96",
           "#ab63fa",
           "#FFA15A",
           "#19d3f3",
           "#FF6692",
           "#B6E880",
           "#FF97FF",
           "#FECB52"
          ],
          "font": {
           "color": "#2a3f5f"
          },
          "geo": {
           "bgcolor": "white",
           "lakecolor": "white",
           "landcolor": "#E5ECF6",
           "showlakes": true,
           "showland": true,
           "subunitcolor": "white"
          },
          "hoverlabel": {
           "align": "left"
          },
          "hovermode": "closest",
          "mapbox": {
           "style": "light"
          },
          "paper_bgcolor": "white",
          "plot_bgcolor": "#E5ECF6",
          "polar": {
           "angularaxis": {
            "gridcolor": "white",
            "linecolor": "white",
            "ticks": ""
           },
           "bgcolor": "#E5ECF6",
           "radialaxis": {
            "gridcolor": "white",
            "linecolor": "white",
            "ticks": ""
           }
          },
          "scene": {
           "xaxis": {
            "backgroundcolor": "#E5ECF6",
            "gridcolor": "white",
            "gridwidth": 2,
            "linecolor": "white",
            "showbackground": true,
            "ticks": "",
            "zerolinecolor": "white"
           },
           "yaxis": {
            "backgroundcolor": "#E5ECF6",
            "gridcolor": "white",
            "gridwidth": 2,
            "linecolor": "white",
            "showbackground": true,
            "ticks": "",
            "zerolinecolor": "white"
           },
           "zaxis": {
            "backgroundcolor": "#E5ECF6",
            "gridcolor": "white",
            "gridwidth": 2,
            "linecolor": "white",
            "showbackground": true,
            "ticks": "",
            "zerolinecolor": "white"
           }
          },
          "shapedefaults": {
           "line": {
            "color": "#2a3f5f"
           }
          },
          "ternary": {
           "aaxis": {
            "gridcolor": "white",
            "linecolor": "white",
            "ticks": ""
           },
           "baxis": {
            "gridcolor": "white",
            "linecolor": "white",
            "ticks": ""
           },
           "bgcolor": "#E5ECF6",
           "caxis": {
            "gridcolor": "white",
            "linecolor": "white",
            "ticks": ""
           }
          },
          "title": {
           "x": 0.05
          },
          "xaxis": {
           "automargin": true,
           "gridcolor": "white",
           "linecolor": "white",
           "ticks": "",
           "title": {
            "standoff": 15
           },
           "zerolinecolor": "white",
           "zerolinewidth": 2
          },
          "yaxis": {
           "automargin": true,
           "gridcolor": "white",
           "linecolor": "white",
           "ticks": "",
           "title": {
            "standoff": 15
           },
           "zerolinecolor": "white",
           "zerolinewidth": 2
          }
         }
        },
        "title": {
         "font": {
          "family": "Montserrat-Regular, Raleway, sans-serif"
         },
         "text": "Umweltauswirkungen <b style='color:#1D7151'>pflanzlicher</b> Lebensmittel",
         "x": 0,
         "y": 1
        },
        "xaxis": {
         "anchor": "y",
         "domain": [
          0,
          1
         ],
         "range": [
          -0.5,
          12
         ],
         "title": {
          "text": "Treibhausgasemissionen pro 1000kcal in KG"
         }
        },
        "yaxis": {
         "anchor": "x",
         "domain": [
          0,
          1
         ],
         "range": [
          -1,
          10
         ],
         "title": {
          "text": "Benötigte Fläche pro 1000kcal in m<sup>2</sup>"
         }
        }
       }
      }
     },
     "metadata": {},
     "output_type": "display_data"
    }
   ],
   "source": [
    "#figure\n",
    "\n",
    "#subset with selected foods\n",
    "df_impact_single_sub2=df_impact_single[df_impact_single['Entity'].isin(['Mais', 'Gerste', 'Tomate', 'Apfel', 'Banane', 'Nüsse', 'Kohl', 'Beeren', 'Zitrone', 'Olivenöl', 'Tofu', 'Kartoffeln', 'Reis'])]\n",
    "\n",
    "# Create Scatterplot\n",
    "fig_2_2=px.scatter(df_impact_single_sub2, x=\"ghg\", y=\"land\",\n",
    "                    size=\"freshwater\", color=\"category\", \n",
    "                    #Define colors and order of legend\n",
    "                    color_discrete_map={\n",
    "                    \"Pflanzliche Produkte\": colors[0],\n",
    "                    \"Fleisch & Fisch\": colors[2],\n",
    "                    \"Milchprodukte & Eier\": colors[1],\n",
    "                    \"Süßes\": colors[4],\n",
    "                    \"Getreide\": colors[8],\n",
    "                    \"Getränke\": colors[6],\n",
    "                    \"Öle & Fette\": colors[5]},\n",
    "                    category_orders={\"category\": [\"Fleisch & Fisch\", \"Milchprodukte & Eier\", \"Pflanzliche Produkte\", \"Getreide\", \"Öle & Fette\", \"Süßes\", 'Getränke']},\n",
    "                    \n",
    "                    #text=\"Entity\",\n",
    "                    size_max=50, \n",
    "                    #In order to avoid jumping, the range is set to min/max of both axis\n",
    "                    range_y =[-1, 10], range_x=[-0.5,12]\n",
    "                    )\n",
    "#Update Styling Scatterplot\n",
    "\n",
    "#Axis labels\n",
    "fig_2_2.update_layout(\n",
    "            xaxis = {\"title\": \"Treibhausgasemissionen pro 1000kcal in KG\"},\n",
    "            yaxis={'title':'Benötigte Fläche pro 1000kcal in m<sup>2</sup>'},\n",
    "            font_family=font,\n",
    "            legend_title_text=None,\n",
    "            title={'text':\"Umweltauswirkungen <b style='color:#1D7151'>pflanzlicher</b> Lebensmittel\",'font_family':'Montserrat-Regular, Raleway, sans-serif','x':0, 'y':1},\n",
    "            margin=dict(t=30, b=10, l=10, r=10)\n",
    "            )\n",
    "\n",
    "#Disable Hover labels\n",
    "fig_2_2.update_traces(mode='markers', hovertemplate=None, hoverinfo='skip')\n",
    "\n",
    "\n",
    "#Add Annotations\n",
    "fig_2_2.add_annotation(x=11, y=5.5, text='Tomate', showarrow=False, ax=0,ay=0)\n",
    "fig_2_2.add_annotation(x=2.8, y=5.1, text='Beeren', showarrow=False, ax=0,ay=0)\n",
    "fig_2_2.add_annotation(x=3.2, y=2.5, text='Kohl', showarrow=False, ax=0,ay=0)\n",
    "fig_2_2.add_annotation(x=1.2, y=0.7, text='Reis', showarrow=True, ax=50,ay=10)\n",
    "fig_2_2.add_annotation(x=1.16, y=1.3, text='Tofu', showarrow=True, ax=20,ay=-20)\n",
    "fig_2_2.add_annotation(x=0.22, y=0.2, text='Gerste', showarrow=True, ax=0,ay=30)\n",
    "fig_2_2.add_annotation(x=0.37, y=0.65, text='Mais', showarrow=True, ax=-25,ay=0)\n",
    "fig_2_2.add_annotation(x=0.89, y=1.3, text='Apfel', showarrow=True, ax=0,ay=-35)\n",
    "fig_2_2.add_annotation(x=0.62, y=1.2, text='Kartoffeln', showarrow=True, ax=15,ay=50)\n",
    "fig_2_2.add_annotation(x=0.06, y=2.1, text='Nüsse', showarrow=False, ax=0,ay=0)\n",
    "fig_2_2.add_annotation(x=0.6, y=3.0, text='Olivenöl', showarrow=True, ax=0,ay=-60)\n",
    "fig_2_2.add_annotation(x=1.45, y=3.2, text='Banane', showarrow=True, ax=0,ay=-30)\n",
    "fig_2_2.add_annotation(x=1.3, y=2.6, text='Zitrone', showarrow=True, ax=35,ay=0)"
   ]
  },
  {
   "cell_type": "code",
   "execution_count": 30,
   "metadata": {},
   "outputs": [],
   "source": [
    "fig_2_2.write_image(\"fig_2_2.png\", width='800', scale=1.5)"
   ]
  },
  {
   "cell_type": "markdown",
   "metadata": {},
   "source": [
    "### Fig 2.3: Only animal products"
   ]
  },
  {
   "cell_type": "code",
   "execution_count": 31,
   "metadata": {},
   "outputs": [],
   "source": [
    "#text\n",
    "fig_2_3_title='Welche tierischen Lebensmittel sind besonders umweltschädlich?'\n",
    "fig_2_3_description='''Betrachten wir nun ausschließlich tierische Produkte, fällt auf, dass sich die einzelnen Lebensmittel hier stärker unterscheiden. Zudem ist der Wertebereich wieder größer. <br>\n",
    "                <font color='#CC0000'>Garnelen</font> zeichnen sich durch vergleichbar hohe Treibhausgasemissionen, einen sehr hohen Süßwasser- und geringeren Flächenverbrauch aus. <br>\n",
    "                <font color='#CC0000'>Rindfleisch aus Fleischzucht</font> ist aufgrund der Viehhaltung und der benötigten Anbaufläche besonders flächenintensiv und erzeugt die meisten Treibhausgase. <br>\n",
    "                <font color='#E39617'>Eier und Milchprodukte</font> sind zwar verglichen mit Fleisch & Fisch weniger klimaschädlich, liegen jedoch immer noch deutlich über den Werten von pflanzlichen Produkten.\n",
    "                '''"
   ]
  },
  {
   "cell_type": "code",
   "execution_count": 32,
   "metadata": {},
   "outputs": [
    {
     "data": {
      "application/vnd.plotly.v1+json": {
       "config": {
        "plotlyServerURL": "https://plot.ly"
       },
       "data": [
        {
         "hoverinfo": "skip",
         "legendgroup": "Fleisch & Fisch",
         "marker": {
          "color": "#CC0000",
          "size": [
           531.5750916,
           994.2490842,
           2062.178771,
           568.7066246,
           751.3807531,
           356.7567568,
           3413.009709
          ],
          "sizemode": "area",
          "sizeref": 1.3652038836,
          "symbol": "circle"
         },
         "mode": "markers",
         "name": "Fleisch & Fisch",
         "orientation": "v",
         "showlegend": true,
         "text": [
          "Rindfleisch (Fleischzucht)",
          "Rindfleisch (Milchvieh)",
          "Fisch",
          "Lammfleisch",
          "Schweinefleisch",
          "Hühnerfleisch",
          "Garnele"
         ],
         "type": "scatter",
         "x": [
          36.43956044,
          12.1978022,
          7.61452514,
          12.52996845,
          5.150627615,
          5.335135135,
          26.08737864
         ],
         "xaxis": "x",
         "y": [
          119.4908425,
          15.83882784,
          4.698324022,
          116.659306,
          7.263598326,
          6.605405405,
          2.883495146
         ],
         "yaxis": "y"
        },
        {
         "hoverinfo": "skip",
         "legendgroup": "Milchprodukte & Eier",
         "marker": {
          "color": "#E39617",
          "size": [
           1448.372093,
           401.1805556,
           1047
          ],
          "sizemode": "area",
          "sizeref": 1.3652038836,
          "symbol": "circle"
         },
         "mode": "markers",
         "name": "Milchprodukte & Eier",
         "orientation": "v",
         "showlegend": true,
         "text": [
          "Käse",
          "Eier",
          "Milch"
         ],
         "type": "scatter",
         "x": [
          6.170542636,
          3.243055556,
          5.25
         ],
         "xaxis": "x",
         "y": [
          22.68475452,
          4.354166667,
          14.91666667
         ],
         "yaxis": "y"
        }
       ],
       "layout": {
        "annotations": [
         {
          "ax": 0,
          "ay": -35,
          "showarrow": true,
          "text": "Käse",
          "x": 6.2,
          "xshift": 0,
          "y": 30
         },
         {
          "ax": -20,
          "ay": -70,
          "showarrow": true,
          "text": "Milch",
          "x": 5,
          "xshift": 0,
          "y": 14.5
         },
         {
          "ax": -10,
          "ay": 30,
          "showarrow": true,
          "text": "Hühner-<br>fleisch",
          "x": 5,
          "xshift": 0,
          "y": 6,
          "yshift": -10
         },
         {
          "ax": -50,
          "ay": -30,
          "showarrow": true,
          "text": "Schweine-<br>fleisch",
          "x": 5,
          "xshift": 0,
          "y": 7
         },
         {
          "ax": 20,
          "ay": 50,
          "showarrow": true,
          "text": "Fisch",
          "x": 8,
          "xshift": 0,
          "y": 5
         },
         {
          "ax": 25,
          "ay": 30,
          "showarrow": true,
          "text": "Rindfleisch<br>(Milchvieh)",
          "x": 12.5,
          "xshift": 0,
          "y": 14
         },
         {
          "ax": 0,
          "ay": 35,
          "showarrow": false,
          "text": "Rindfleisch (Fleischzucht)",
          "x": 36.5,
          "xshift": 0,
          "y": 110
         },
         {
          "ax": 0,
          "ay": 35,
          "showarrow": false,
          "text": "Lammfleisch",
          "x": 12.5,
          "xshift": 0,
          "y": 108
         },
         {
          "ax": 0,
          "ay": -35,
          "showarrow": false,
          "text": "Garnele",
          "x": 26,
          "xshift": 0,
          "y": 22
         },
         {
          "ax": -30,
          "ay": 0,
          "showarrow": true,
          "text": "Eier",
          "x": 3,
          "xshift": 0,
          "y": 4
         }
        ],
        "font": {
         "family": "Roboto-light, Gravitas One, Raleway, Arial, sans-serif"
        },
        "legend": {
         "itemsizing": "constant",
         "title": {},
         "tracegroupgap": 0
        },
        "margin": {
         "b": 10,
         "l": 10,
         "r": 10,
         "t": 30
        },
        "template": {
         "data": {
          "bar": [
           {
            "error_x": {
             "color": "#2a3f5f"
            },
            "error_y": {
             "color": "#2a3f5f"
            },
            "marker": {
             "line": {
              "color": "#E5ECF6",
              "width": 0.5
             },
             "pattern": {
              "fillmode": "overlay",
              "size": 10,
              "solidity": 0.2
             }
            },
            "type": "bar"
           }
          ],
          "barpolar": [
           {
            "marker": {
             "line": {
              "color": "#E5ECF6",
              "width": 0.5
             },
             "pattern": {
              "fillmode": "overlay",
              "size": 10,
              "solidity": 0.2
             }
            },
            "type": "barpolar"
           }
          ],
          "carpet": [
           {
            "aaxis": {
             "endlinecolor": "#2a3f5f",
             "gridcolor": "white",
             "linecolor": "white",
             "minorgridcolor": "white",
             "startlinecolor": "#2a3f5f"
            },
            "baxis": {
             "endlinecolor": "#2a3f5f",
             "gridcolor": "white",
             "linecolor": "white",
             "minorgridcolor": "white",
             "startlinecolor": "#2a3f5f"
            },
            "type": "carpet"
           }
          ],
          "choropleth": [
           {
            "colorbar": {
             "outlinewidth": 0,
             "ticks": ""
            },
            "type": "choropleth"
           }
          ],
          "contour": [
           {
            "colorbar": {
             "outlinewidth": 0,
             "ticks": ""
            },
            "colorscale": [
             [
              0,
              "#0d0887"
             ],
             [
              0.1111111111111111,
              "#46039f"
             ],
             [
              0.2222222222222222,
              "#7201a8"
             ],
             [
              0.3333333333333333,
              "#9c179e"
             ],
             [
              0.4444444444444444,
              "#bd3786"
             ],
             [
              0.5555555555555556,
              "#d8576b"
             ],
             [
              0.6666666666666666,
              "#ed7953"
             ],
             [
              0.7777777777777778,
              "#fb9f3a"
             ],
             [
              0.8888888888888888,
              "#fdca26"
             ],
             [
              1,
              "#f0f921"
             ]
            ],
            "type": "contour"
           }
          ],
          "contourcarpet": [
           {
            "colorbar": {
             "outlinewidth": 0,
             "ticks": ""
            },
            "type": "contourcarpet"
           }
          ],
          "heatmap": [
           {
            "colorbar": {
             "outlinewidth": 0,
             "ticks": ""
            },
            "colorscale": [
             [
              0,
              "#0d0887"
             ],
             [
              0.1111111111111111,
              "#46039f"
             ],
             [
              0.2222222222222222,
              "#7201a8"
             ],
             [
              0.3333333333333333,
              "#9c179e"
             ],
             [
              0.4444444444444444,
              "#bd3786"
             ],
             [
              0.5555555555555556,
              "#d8576b"
             ],
             [
              0.6666666666666666,
              "#ed7953"
             ],
             [
              0.7777777777777778,
              "#fb9f3a"
             ],
             [
              0.8888888888888888,
              "#fdca26"
             ],
             [
              1,
              "#f0f921"
             ]
            ],
            "type": "heatmap"
           }
          ],
          "heatmapgl": [
           {
            "colorbar": {
             "outlinewidth": 0,
             "ticks": ""
            },
            "colorscale": [
             [
              0,
              "#0d0887"
             ],
             [
              0.1111111111111111,
              "#46039f"
             ],
             [
              0.2222222222222222,
              "#7201a8"
             ],
             [
              0.3333333333333333,
              "#9c179e"
             ],
             [
              0.4444444444444444,
              "#bd3786"
             ],
             [
              0.5555555555555556,
              "#d8576b"
             ],
             [
              0.6666666666666666,
              "#ed7953"
             ],
             [
              0.7777777777777778,
              "#fb9f3a"
             ],
             [
              0.8888888888888888,
              "#fdca26"
             ],
             [
              1,
              "#f0f921"
             ]
            ],
            "type": "heatmapgl"
           }
          ],
          "histogram": [
           {
            "marker": {
             "pattern": {
              "fillmode": "overlay",
              "size": 10,
              "solidity": 0.2
             }
            },
            "type": "histogram"
           }
          ],
          "histogram2d": [
           {
            "colorbar": {
             "outlinewidth": 0,
             "ticks": ""
            },
            "colorscale": [
             [
              0,
              "#0d0887"
             ],
             [
              0.1111111111111111,
              "#46039f"
             ],
             [
              0.2222222222222222,
              "#7201a8"
             ],
             [
              0.3333333333333333,
              "#9c179e"
             ],
             [
              0.4444444444444444,
              "#bd3786"
             ],
             [
              0.5555555555555556,
              "#d8576b"
             ],
             [
              0.6666666666666666,
              "#ed7953"
             ],
             [
              0.7777777777777778,
              "#fb9f3a"
             ],
             [
              0.8888888888888888,
              "#fdca26"
             ],
             [
              1,
              "#f0f921"
             ]
            ],
            "type": "histogram2d"
           }
          ],
          "histogram2dcontour": [
           {
            "colorbar": {
             "outlinewidth": 0,
             "ticks": ""
            },
            "colorscale": [
             [
              0,
              "#0d0887"
             ],
             [
              0.1111111111111111,
              "#46039f"
             ],
             [
              0.2222222222222222,
              "#7201a8"
             ],
             [
              0.3333333333333333,
              "#9c179e"
             ],
             [
              0.4444444444444444,
              "#bd3786"
             ],
             [
              0.5555555555555556,
              "#d8576b"
             ],
             [
              0.6666666666666666,
              "#ed7953"
             ],
             [
              0.7777777777777778,
              "#fb9f3a"
             ],
             [
              0.8888888888888888,
              "#fdca26"
             ],
             [
              1,
              "#f0f921"
             ]
            ],
            "type": "histogram2dcontour"
           }
          ],
          "mesh3d": [
           {
            "colorbar": {
             "outlinewidth": 0,
             "ticks": ""
            },
            "type": "mesh3d"
           }
          ],
          "parcoords": [
           {
            "line": {
             "colorbar": {
              "outlinewidth": 0,
              "ticks": ""
             }
            },
            "type": "parcoords"
           }
          ],
          "pie": [
           {
            "automargin": true,
            "type": "pie"
           }
          ],
          "scatter": [
           {
            "marker": {
             "colorbar": {
              "outlinewidth": 0,
              "ticks": ""
             }
            },
            "type": "scatter"
           }
          ],
          "scatter3d": [
           {
            "line": {
             "colorbar": {
              "outlinewidth": 0,
              "ticks": ""
             }
            },
            "marker": {
             "colorbar": {
              "outlinewidth": 0,
              "ticks": ""
             }
            },
            "type": "scatter3d"
           }
          ],
          "scattercarpet": [
           {
            "marker": {
             "colorbar": {
              "outlinewidth": 0,
              "ticks": ""
             }
            },
            "type": "scattercarpet"
           }
          ],
          "scattergeo": [
           {
            "marker": {
             "colorbar": {
              "outlinewidth": 0,
              "ticks": ""
             }
            },
            "type": "scattergeo"
           }
          ],
          "scattergl": [
           {
            "marker": {
             "colorbar": {
              "outlinewidth": 0,
              "ticks": ""
             }
            },
            "type": "scattergl"
           }
          ],
          "scattermapbox": [
           {
            "marker": {
             "colorbar": {
              "outlinewidth": 0,
              "ticks": ""
             }
            },
            "type": "scattermapbox"
           }
          ],
          "scatterpolar": [
           {
            "marker": {
             "colorbar": {
              "outlinewidth": 0,
              "ticks": ""
             }
            },
            "type": "scatterpolar"
           }
          ],
          "scatterpolargl": [
           {
            "marker": {
             "colorbar": {
              "outlinewidth": 0,
              "ticks": ""
             }
            },
            "type": "scatterpolargl"
           }
          ],
          "scatterternary": [
           {
            "marker": {
             "colorbar": {
              "outlinewidth": 0,
              "ticks": ""
             }
            },
            "type": "scatterternary"
           }
          ],
          "surface": [
           {
            "colorbar": {
             "outlinewidth": 0,
             "ticks": ""
            },
            "colorscale": [
             [
              0,
              "#0d0887"
             ],
             [
              0.1111111111111111,
              "#46039f"
             ],
             [
              0.2222222222222222,
              "#7201a8"
             ],
             [
              0.3333333333333333,
              "#9c179e"
             ],
             [
              0.4444444444444444,
              "#bd3786"
             ],
             [
              0.5555555555555556,
              "#d8576b"
             ],
             [
              0.6666666666666666,
              "#ed7953"
             ],
             [
              0.7777777777777778,
              "#fb9f3a"
             ],
             [
              0.8888888888888888,
              "#fdca26"
             ],
             [
              1,
              "#f0f921"
             ]
            ],
            "type": "surface"
           }
          ],
          "table": [
           {
            "cells": {
             "fill": {
              "color": "#EBF0F8"
             },
             "line": {
              "color": "white"
             }
            },
            "header": {
             "fill": {
              "color": "#C8D4E3"
             },
             "line": {
              "color": "white"
             }
            },
            "type": "table"
           }
          ]
         },
         "layout": {
          "annotationdefaults": {
           "arrowcolor": "#2a3f5f",
           "arrowhead": 0,
           "arrowwidth": 1
          },
          "autotypenumbers": "strict",
          "coloraxis": {
           "colorbar": {
            "outlinewidth": 0,
            "ticks": ""
           }
          },
          "colorscale": {
           "diverging": [
            [
             0,
             "#8e0152"
            ],
            [
             0.1,
             "#c51b7d"
            ],
            [
             0.2,
             "#de77ae"
            ],
            [
             0.3,
             "#f1b6da"
            ],
            [
             0.4,
             "#fde0ef"
            ],
            [
             0.5,
             "#f7f7f7"
            ],
            [
             0.6,
             "#e6f5d0"
            ],
            [
             0.7,
             "#b8e186"
            ],
            [
             0.8,
             "#7fbc41"
            ],
            [
             0.9,
             "#4d9221"
            ],
            [
             1,
             "#276419"
            ]
           ],
           "sequential": [
            [
             0,
             "#0d0887"
            ],
            [
             0.1111111111111111,
             "#46039f"
            ],
            [
             0.2222222222222222,
             "#7201a8"
            ],
            [
             0.3333333333333333,
             "#9c179e"
            ],
            [
             0.4444444444444444,
             "#bd3786"
            ],
            [
             0.5555555555555556,
             "#d8576b"
            ],
            [
             0.6666666666666666,
             "#ed7953"
            ],
            [
             0.7777777777777778,
             "#fb9f3a"
            ],
            [
             0.8888888888888888,
             "#fdca26"
            ],
            [
             1,
             "#f0f921"
            ]
           ],
           "sequentialminus": [
            [
             0,
             "#0d0887"
            ],
            [
             0.1111111111111111,
             "#46039f"
            ],
            [
             0.2222222222222222,
             "#7201a8"
            ],
            [
             0.3333333333333333,
             "#9c179e"
            ],
            [
             0.4444444444444444,
             "#bd3786"
            ],
            [
             0.5555555555555556,
             "#d8576b"
            ],
            [
             0.6666666666666666,
             "#ed7953"
            ],
            [
             0.7777777777777778,
             "#fb9f3a"
            ],
            [
             0.8888888888888888,
             "#fdca26"
            ],
            [
             1,
             "#f0f921"
            ]
           ]
          },
          "colorway": [
           "#636efa",
           "#EF553B",
           "#00cc96",
           "#ab63fa",
           "#FFA15A",
           "#19d3f3",
           "#FF6692",
           "#B6E880",
           "#FF97FF",
           "#FECB52"
          ],
          "font": {
           "color": "#2a3f5f"
          },
          "geo": {
           "bgcolor": "white",
           "lakecolor": "white",
           "landcolor": "#E5ECF6",
           "showlakes": true,
           "showland": true,
           "subunitcolor": "white"
          },
          "hoverlabel": {
           "align": "left"
          },
          "hovermode": "closest",
          "mapbox": {
           "style": "light"
          },
          "paper_bgcolor": "white",
          "plot_bgcolor": "#E5ECF6",
          "polar": {
           "angularaxis": {
            "gridcolor": "white",
            "linecolor": "white",
            "ticks": ""
           },
           "bgcolor": "#E5ECF6",
           "radialaxis": {
            "gridcolor": "white",
            "linecolor": "white",
            "ticks": ""
           }
          },
          "scene": {
           "xaxis": {
            "backgroundcolor": "#E5ECF6",
            "gridcolor": "white",
            "gridwidth": 2,
            "linecolor": "white",
            "showbackground": true,
            "ticks": "",
            "zerolinecolor": "white"
           },
           "yaxis": {
            "backgroundcolor": "#E5ECF6",
            "gridcolor": "white",
            "gridwidth": 2,
            "linecolor": "white",
            "showbackground": true,
            "ticks": "",
            "zerolinecolor": "white"
           },
           "zaxis": {
            "backgroundcolor": "#E5ECF6",
            "gridcolor": "white",
            "gridwidth": 2,
            "linecolor": "white",
            "showbackground": true,
            "ticks": "",
            "zerolinecolor": "white"
           }
          },
          "shapedefaults": {
           "line": {
            "color": "#2a3f5f"
           }
          },
          "ternary": {
           "aaxis": {
            "gridcolor": "white",
            "linecolor": "white",
            "ticks": ""
           },
           "baxis": {
            "gridcolor": "white",
            "linecolor": "white",
            "ticks": ""
           },
           "bgcolor": "#E5ECF6",
           "caxis": {
            "gridcolor": "white",
            "linecolor": "white",
            "ticks": ""
           }
          },
          "title": {
           "x": 0.05
          },
          "xaxis": {
           "automargin": true,
           "gridcolor": "white",
           "linecolor": "white",
           "ticks": "",
           "title": {
            "standoff": 15
           },
           "zerolinecolor": "white",
           "zerolinewidth": 2
          },
          "yaxis": {
           "automargin": true,
           "gridcolor": "white",
           "linecolor": "white",
           "ticks": "",
           "title": {
            "standoff": 15
           },
           "zerolinecolor": "white",
           "zerolinewidth": 2
          }
         }
        },
        "title": {
         "font": {
          "family": "Montserrat-Regular, Raleway, sans-serif"
         },
         "text": "Umweltauswirkungen <b style='color:#CC0000'>tierischer</b> Lebensmittel",
         "x": 0,
         "y": 1
        },
        "xaxis": {
         "anchor": "y",
         "domain": [
          0,
          1
         ],
         "range": [
          -4.930081301,
          60.94642857
         ],
         "title": {
          "text": "Treibhausgasemissionen pro 1000kcal in KG"
         }
        },
        "yaxis": {
         "anchor": "x",
         "domain": [
          0,
          1
         ],
         "range": [
          -19.778,
          129.49084249999999
         ],
         "title": {
          "text": "Benötigte Fläche pro 1000kcal in m<sup>2</sup>"
         }
        }
       }
      }
     },
     "metadata": {},
     "output_type": "display_data"
    }
   ],
   "source": [
    "#figure\n",
    "\n",
    "#subset with selected foods\n",
    "df_impact_single_sub3=df_impact_single[df_impact_single['category'].isin(['Fleisch & Fisch', 'Milchprodukte & Eier'])]\n",
    "\n",
    "# Create Scatterplot\n",
    "fig_2_3=px.scatter(df_impact_single_sub3, x=\"ghg\", y=\"land\",\n",
    "                    size=\"freshwater\", color=\"category\", \n",
    "                    #Define colors and order of legend\n",
    "                    color_discrete_map={\n",
    "                    \"Pflanzliche Produkte\": colors[0],\n",
    "                    \"Fleisch & Fisch\": colors[2],\n",
    "                    \"Milchprodukte & Eier\": colors[1],\n",
    "                    \"Süßes\": colors[4],\n",
    "                    \"Getreide\": colors[8],\n",
    "                    \"Getränke\": colors[6],\n",
    "                    \"Öle & Fette\": colors[5]},\n",
    "                    category_orders={\"category\": [\"Fleisch & Fisch\", \"Milchprodukte & Eier\", \"Pflanzliche Produkte\", \"Getreide\", \"Öle & Fette\", \"Süßes\", 'Getränke']},\n",
    "                    \n",
    "                    text=\"Entity\",\n",
    "                    size_max=50, \n",
    "                    #In order to avoid jumping, the range is set to min/max of both axis\n",
    "                    range_y =[df_impact_single['land'].min()-20, df_impact_single['land'].max()+10], range_x=[df_impact_single['ghg'].min()-5, df_impact_single['ghg'].max()+10]\n",
    "                    )\n",
    "#Update Styling Scatterplot\n",
    "\n",
    "#Axis labels\n",
    "fig_2_3.update_layout(\n",
    "            xaxis = {\"title\": \"Treibhausgasemissionen pro 1000kcal in KG\"},\n",
    "            yaxis={'title':'Benötigte Fläche pro 1000kcal in m<sup>2</sup>'},\n",
    "            font_family=font,\n",
    "            legend_title_text=None,\n",
    "            title={'text':\"Umweltauswirkungen <b style='color:#CC0000'>tierischer</b> Lebensmittel\",'font_family':'Montserrat-Regular, Raleway, sans-serif','x':0, 'y':1},\n",
    "            margin=dict(t=30, b=10, l=10, r=10)\n",
    "            )\n",
    "\n",
    "#Disable Hover labels\n",
    "fig_2_3.update_traces(mode='markers', hovertemplate=None, hoverinfo='skip')\n",
    "\n",
    "#Add annotations\n",
    "fig_2_3.add_annotation(x=6.2, y=30, text=\"Käse\", showarrow=True, ax=0, ay=-35, xshift=0)\n",
    "fig_2_3.add_annotation(x=5, y=14.5, text=\"Milch\", showarrow=True,ax=-20, ay=-70, xshift=0)\n",
    "fig_2_3.add_annotation(x=5, y=6,text=\"Hühner-<br>fleisch\",showarrow=True,ax=-10,ay=30,xshift=0, yshift=-10)\n",
    "fig_2_3.add_annotation(x=5, y=7,text=\"Schweine-<br>fleisch\", showarrow=True, ax=-50,ay=-30, xshift=0)\n",
    "fig_2_3.add_annotation(x=8, y=5, text=\"Fisch\", showarrow=True, ax=20,ay=50, xshift=0)\n",
    "fig_2_3.add_annotation(x=12.5, y=14, text=\"Rindfleisch<br>(Milchvieh)\", showarrow=True, ax=25,ay=30, xshift=0)\n",
    "fig_2_3.add_annotation(x=36.5, y=110, text=\"Rindfleisch (Fleischzucht)\", showarrow=False, ax=0,ay=35, xshift=0)\n",
    "fig_2_3.add_annotation(x=12.5, y=108, text=\"Lammfleisch\", showarrow=False, ax=0,ay=35, xshift=0)\n",
    "fig_2_3.add_annotation(x=26, y=22, text=\"Garnele\", showarrow=False, ax=0,ay=-35, xshift=0)\n",
    "fig_2_3.add_annotation(x=3, y=4, text=\"Eier\", showarrow=True, ax=-30,ay=0, xshift=0)"
   ]
  },
  {
   "cell_type": "code",
   "execution_count": 33,
   "metadata": {},
   "outputs": [],
   "source": [
    "fig_2_3.write_image(\"fig_2_3.png\", width='800', scale=1.5)"
   ]
  },
  {
   "cell_type": "markdown",
   "metadata": {},
   "source": [
    "## 3 Comparing different diets\n",
    "### Figure 3.1 Comparing diets of different countries to the sustainable diet recommended by EAT-Lancet"
   ]
  },
  {
   "cell_type": "code",
   "execution_count": 34,
   "metadata": {},
   "outputs": [],
   "source": [
    "#text\n",
    "fig_3_1_title='Wie sieht eine gesunde und nachhaltige Ernährung aus?'\n",
    "fig_3_1_description='''Die EAT-Lancet-Kommission ist ein Zusammenschluss aus 37 internationalen und weltweit renommierten Forscher*Innen. Sie beschäftigen sich mit der Frage, \n",
    "                    inwieweit trotz rasant wachsenden Bevölkerungszahlen allen Menschen eine <b>gesunde und nachhaltige Ernährung</b> ermöglicht werden kann. \n",
    "                    Gemeinsam haben sie eine Ernährungsweise entwickelt, die empfohlen wird, um diese Ziele zu erreichen. Das bedeutet, wenn sich alle Menschen an dieser Ernährungsweise orientieren würden, könnten wir der gesamten Weltbevölkerung eine gesunde Ernährung mit ökologischer Nachhaltigkeit ermöglichen. <br>\n",
    "                    Vergleichen wir diese Ernährungsweise mit den Durchschnittswerten ausgewählter Länder, zeigt sich zunächst, dass v.a. die Industriestaaten insgesamt zu viel Lebensmittel konsumieren.<br>\n",
    "                    Ein weiterer wichtiger Unterschied ist die Zusammensetzung der Ernährung. Aktuell konsumieren die Länder deutlich mehr <b>tierische Produkte</b> als empfohlen. Durchschnittlich isst jeder Deutsche knapp vier mal so viel <font color='#CC0000'>Fleisch und Fisch</font> als empfohlen (269g vs. 71g), in den USA ist es sogar über fünf-mal so viel. \n",
    "                    Ähnlich verhält es sich bei <font color='#E39617'>Milchprodukten und Eiern</font>. Hier ist der Anteil in Deutschland knapp drei mal größer als empfohlen. <br>\n",
    "                    Das zeigt, dass wir, um uns der empfohlenen Ernährungsweise anzunähern, insbesondere den Konsum von Fleisch und tierischen Produkten reduzieren müssen.\n",
    "                    '''"
   ]
  },
  {
   "cell_type": "code",
   "execution_count": 35,
   "metadata": {},
   "outputs": [],
   "source": [
    "#preparation df\n",
    "df_diet = pd.read_csv('../Dashboard/fig5_diets.csv')\n",
    "df_diet['country']=df_diet['country'].astype('category')\n",
    "df_diet['food']=df_diet['food'].astype('category')\n",
    "df_diet['group']=df_diet['group'].astype('category')"
   ]
  },
  {
   "cell_type": "code",
   "execution_count": 36,
   "metadata": {},
   "outputs": [
    {
     "data": {
      "application/vnd.plotly.v1+json": {
       "config": {
        "plotlyServerURL": "https://plot.ly"
       },
       "data": [
        {
         "alignmentgroup": "True",
         "hoverinfo": "skip",
         "insidetextanchor": "middle",
         "legendgroup": "Fleisch & Fisch",
         "marker": {
          "color": "#CC0000",
          "pattern": {
           "shape": ""
          }
         },
         "name": "Fleisch & Fisch",
         "offsetgroup": "Fleisch & Fisch",
         "orientation": "h",
         "showlegend": true,
         "text": [
          "269.5890411",
          "71.0",
          "317.91780818999996",
          "298.35616442",
          "386.73972607",
          "399.04109587"
         ],
         "textangle": 0,
         "textposition": "inside",
         "texttemplate": "%{x:.0f} g",
         "type": "bar",
         "x": [
          269.5890411,
          71,
          317.91780818999996,
          298.35616442,
          386.73972607,
          399.04109587
         ],
         "xaxis": "x",
         "y": [
          "Deutschland",
          "EAT-Lancet",
          "Frankreich",
          "Italien",
          "Spanien",
          "Vereinigte Staaten von Amerika"
         ],
         "yaxis": "y"
        },
        {
         "alignmentgroup": "True",
         "hoverinfo": "skip",
         "insidetextanchor": "middle",
         "legendgroup": "Milchprodukte & Eier",
         "marker": {
          "color": "#E39617",
          "pattern": {
           "shape": ""
          }
         },
         "name": "Milchprodukte & Eier",
         "offsetgroup": "Milchprodukte & Eier",
         "orientation": "h",
         "showlegend": true,
         "text": [
          "763.67123283",
          "263.0",
          "744.2191781",
          "658.1917808400001",
          "530.82191786",
          "740.93150685"
         ],
         "textangle": 0,
         "textposition": "inside",
         "texttemplate": "%{x:.0f} g",
         "type": "bar",
         "x": [
          763.67123283,
          263,
          744.2191781,
          658.1917808400001,
          530.82191786,
          740.93150685
         ],
         "xaxis": "x",
         "y": [
          "Deutschland",
          "EAT-Lancet",
          "Frankreich",
          "Italien",
          "Spanien",
          "Vereinigte Staaten von Amerika"
         ],
         "yaxis": "y"
        },
        {
         "alignmentgroup": "True",
         "hoverinfo": "skip",
         "insidetextanchor": "middle",
         "legendgroup": "Pflanzliche Produkte",
         "marker": {
          "color": "#1D7151",
          "pattern": {
           "shape": ""
          }
         },
         "name": "Pflanzliche Produkte",
         "offsetgroup": "Pflanzliche Produkte",
         "orientation": "h",
         "showlegend": true,
         "text": [
          "644.630137",
          "675.0",
          "672.3561643809999",
          "803.8630136799999",
          "844.6849315",
          "731.2602740560001"
         ],
         "textangle": 0,
         "textposition": "inside",
         "texttemplate": "%{x:.0f} g",
         "type": "bar",
         "x": [
          644.630137,
          675,
          672.3561643809999,
          803.8630136799999,
          844.6849315,
          731.2602740560001
         ],
         "xaxis": "x",
         "y": [
          "Deutschland",
          "EAT-Lancet",
          "Frankreich",
          "Italien",
          "Spanien",
          "Vereinigte Staaten von Amerika"
         ],
         "yaxis": "y"
        },
        {
         "alignmentgroup": "True",
         "hoverinfo": "skip",
         "insidetextanchor": "middle",
         "legendgroup": "Getreide",
         "marker": {
          "color": "#CCAD99",
          "pattern": {
           "shape": ""
          }
         },
         "name": "Getreide",
         "offsetgroup": "Getreide",
         "orientation": "h",
         "showlegend": true,
         "text": [
          "312.0273973",
          "232.0",
          "361.6438356",
          "440.9315068",
          "311.0958904",
          "298.7671233"
         ],
         "textangle": 0,
         "textposition": "inside",
         "texttemplate": "%{x:.0f} g",
         "type": "bar",
         "x": [
          312.0273973,
          232,
          361.6438356,
          440.9315068,
          311.0958904,
          298.7671233
         ],
         "xaxis": "x",
         "y": [
          "Deutschland",
          "EAT-Lancet",
          "Frankreich",
          "Italien",
          "Spanien",
          "Vereinigte Staaten von Amerika"
         ],
         "yaxis": "y"
        },
        {
         "alignmentgroup": "True",
         "hoverinfo": "skip",
         "insidetextanchor": "middle",
         "legendgroup": "Öl",
         "marker": {
          "color": "#8FBF99",
          "pattern": {
           "shape": ""
          }
         },
         "name": "Öl",
         "offsetgroup": "Öl",
         "orientation": "h",
         "showlegend": true,
         "text": [
          "76.60273973",
          "52.0",
          "85.7260274",
          "88.05479452",
          "89.80821918",
          "62.79452055"
         ],
         "textangle": 0,
         "textposition": "inside",
         "texttemplate": "%{x:.0f} g",
         "type": "bar",
         "x": [
          76.60273973,
          52,
          85.7260274,
          88.05479452,
          89.80821918,
          62.79452055
         ],
         "xaxis": "x",
         "y": [
          "Deutschland",
          "EAT-Lancet",
          "Frankreich",
          "Italien",
          "Spanien",
          "Vereinigte Staaten von Amerika"
         ],
         "yaxis": "y"
        },
        {
         "alignmentgroup": "True",
         "hoverinfo": "skip",
         "insidetextanchor": "middle",
         "legendgroup": "Zucker",
         "marker": {
          "color": "#505C5D",
          "pattern": {
           "shape": ""
          }
         },
         "name": "Zucker",
         "offsetgroup": "Zucker",
         "orientation": "h",
         "showlegend": true,
         "text": [
          "99.31506849",
          "31.0",
          "106.2465753",
          "85.50684932",
          "87.45205479",
          "90.30136986"
         ],
         "textangle": 0,
         "textposition": "inside",
         "texttemplate": "%{x:.0f} g",
         "type": "bar",
         "x": [
          99.31506849,
          31,
          106.2465753,
          85.50684932,
          87.45205479,
          90.30136986
         ],
         "xaxis": "x",
         "y": [
          "Deutschland",
          "EAT-Lancet",
          "Frankreich",
          "Italien",
          "Spanien",
          "Vereinigte Staaten von Amerika"
         ],
         "yaxis": "y"
        }
       ],
       "layout": {
        "barmode": "relative",
        "font": {
         "family": "Roboto-light, Gravitas One, Raleway, Arial, sans-serif"
        },
        "legend": {
         "title": {},
         "tracegroupgap": 0
        },
        "margin": {
         "b": 10,
         "l": 10,
         "r": 10,
         "t": 30
        },
        "template": {
         "data": {
          "bar": [
           {
            "error_x": {
             "color": "#2a3f5f"
            },
            "error_y": {
             "color": "#2a3f5f"
            },
            "marker": {
             "line": {
              "color": "#E5ECF6",
              "width": 0.5
             },
             "pattern": {
              "fillmode": "overlay",
              "size": 10,
              "solidity": 0.2
             }
            },
            "type": "bar"
           }
          ],
          "barpolar": [
           {
            "marker": {
             "line": {
              "color": "#E5ECF6",
              "width": 0.5
             },
             "pattern": {
              "fillmode": "overlay",
              "size": 10,
              "solidity": 0.2
             }
            },
            "type": "barpolar"
           }
          ],
          "carpet": [
           {
            "aaxis": {
             "endlinecolor": "#2a3f5f",
             "gridcolor": "white",
             "linecolor": "white",
             "minorgridcolor": "white",
             "startlinecolor": "#2a3f5f"
            },
            "baxis": {
             "endlinecolor": "#2a3f5f",
             "gridcolor": "white",
             "linecolor": "white",
             "minorgridcolor": "white",
             "startlinecolor": "#2a3f5f"
            },
            "type": "carpet"
           }
          ],
          "choropleth": [
           {
            "colorbar": {
             "outlinewidth": 0,
             "ticks": ""
            },
            "type": "choropleth"
           }
          ],
          "contour": [
           {
            "colorbar": {
             "outlinewidth": 0,
             "ticks": ""
            },
            "colorscale": [
             [
              0,
              "#0d0887"
             ],
             [
              0.1111111111111111,
              "#46039f"
             ],
             [
              0.2222222222222222,
              "#7201a8"
             ],
             [
              0.3333333333333333,
              "#9c179e"
             ],
             [
              0.4444444444444444,
              "#bd3786"
             ],
             [
              0.5555555555555556,
              "#d8576b"
             ],
             [
              0.6666666666666666,
              "#ed7953"
             ],
             [
              0.7777777777777778,
              "#fb9f3a"
             ],
             [
              0.8888888888888888,
              "#fdca26"
             ],
             [
              1,
              "#f0f921"
             ]
            ],
            "type": "contour"
           }
          ],
          "contourcarpet": [
           {
            "colorbar": {
             "outlinewidth": 0,
             "ticks": ""
            },
            "type": "contourcarpet"
           }
          ],
          "heatmap": [
           {
            "colorbar": {
             "outlinewidth": 0,
             "ticks": ""
            },
            "colorscale": [
             [
              0,
              "#0d0887"
             ],
             [
              0.1111111111111111,
              "#46039f"
             ],
             [
              0.2222222222222222,
              "#7201a8"
             ],
             [
              0.3333333333333333,
              "#9c179e"
             ],
             [
              0.4444444444444444,
              "#bd3786"
             ],
             [
              0.5555555555555556,
              "#d8576b"
             ],
             [
              0.6666666666666666,
              "#ed7953"
             ],
             [
              0.7777777777777778,
              "#fb9f3a"
             ],
             [
              0.8888888888888888,
              "#fdca26"
             ],
             [
              1,
              "#f0f921"
             ]
            ],
            "type": "heatmap"
           }
          ],
          "heatmapgl": [
           {
            "colorbar": {
             "outlinewidth": 0,
             "ticks": ""
            },
            "colorscale": [
             [
              0,
              "#0d0887"
             ],
             [
              0.1111111111111111,
              "#46039f"
             ],
             [
              0.2222222222222222,
              "#7201a8"
             ],
             [
              0.3333333333333333,
              "#9c179e"
             ],
             [
              0.4444444444444444,
              "#bd3786"
             ],
             [
              0.5555555555555556,
              "#d8576b"
             ],
             [
              0.6666666666666666,
              "#ed7953"
             ],
             [
              0.7777777777777778,
              "#fb9f3a"
             ],
             [
              0.8888888888888888,
              "#fdca26"
             ],
             [
              1,
              "#f0f921"
             ]
            ],
            "type": "heatmapgl"
           }
          ],
          "histogram": [
           {
            "marker": {
             "pattern": {
              "fillmode": "overlay",
              "size": 10,
              "solidity": 0.2
             }
            },
            "type": "histogram"
           }
          ],
          "histogram2d": [
           {
            "colorbar": {
             "outlinewidth": 0,
             "ticks": ""
            },
            "colorscale": [
             [
              0,
              "#0d0887"
             ],
             [
              0.1111111111111111,
              "#46039f"
             ],
             [
              0.2222222222222222,
              "#7201a8"
             ],
             [
              0.3333333333333333,
              "#9c179e"
             ],
             [
              0.4444444444444444,
              "#bd3786"
             ],
             [
              0.5555555555555556,
              "#d8576b"
             ],
             [
              0.6666666666666666,
              "#ed7953"
             ],
             [
              0.7777777777777778,
              "#fb9f3a"
             ],
             [
              0.8888888888888888,
              "#fdca26"
             ],
             [
              1,
              "#f0f921"
             ]
            ],
            "type": "histogram2d"
           }
          ],
          "histogram2dcontour": [
           {
            "colorbar": {
             "outlinewidth": 0,
             "ticks": ""
            },
            "colorscale": [
             [
              0,
              "#0d0887"
             ],
             [
              0.1111111111111111,
              "#46039f"
             ],
             [
              0.2222222222222222,
              "#7201a8"
             ],
             [
              0.3333333333333333,
              "#9c179e"
             ],
             [
              0.4444444444444444,
              "#bd3786"
             ],
             [
              0.5555555555555556,
              "#d8576b"
             ],
             [
              0.6666666666666666,
              "#ed7953"
             ],
             [
              0.7777777777777778,
              "#fb9f3a"
             ],
             [
              0.8888888888888888,
              "#fdca26"
             ],
             [
              1,
              "#f0f921"
             ]
            ],
            "type": "histogram2dcontour"
           }
          ],
          "mesh3d": [
           {
            "colorbar": {
             "outlinewidth": 0,
             "ticks": ""
            },
            "type": "mesh3d"
           }
          ],
          "parcoords": [
           {
            "line": {
             "colorbar": {
              "outlinewidth": 0,
              "ticks": ""
             }
            },
            "type": "parcoords"
           }
          ],
          "pie": [
           {
            "automargin": true,
            "type": "pie"
           }
          ],
          "scatter": [
           {
            "marker": {
             "colorbar": {
              "outlinewidth": 0,
              "ticks": ""
             }
            },
            "type": "scatter"
           }
          ],
          "scatter3d": [
           {
            "line": {
             "colorbar": {
              "outlinewidth": 0,
              "ticks": ""
             }
            },
            "marker": {
             "colorbar": {
              "outlinewidth": 0,
              "ticks": ""
             }
            },
            "type": "scatter3d"
           }
          ],
          "scattercarpet": [
           {
            "marker": {
             "colorbar": {
              "outlinewidth": 0,
              "ticks": ""
             }
            },
            "type": "scattercarpet"
           }
          ],
          "scattergeo": [
           {
            "marker": {
             "colorbar": {
              "outlinewidth": 0,
              "ticks": ""
             }
            },
            "type": "scattergeo"
           }
          ],
          "scattergl": [
           {
            "marker": {
             "colorbar": {
              "outlinewidth": 0,
              "ticks": ""
             }
            },
            "type": "scattergl"
           }
          ],
          "scattermapbox": [
           {
            "marker": {
             "colorbar": {
              "outlinewidth": 0,
              "ticks": ""
             }
            },
            "type": "scattermapbox"
           }
          ],
          "scatterpolar": [
           {
            "marker": {
             "colorbar": {
              "outlinewidth": 0,
              "ticks": ""
             }
            },
            "type": "scatterpolar"
           }
          ],
          "scatterpolargl": [
           {
            "marker": {
             "colorbar": {
              "outlinewidth": 0,
              "ticks": ""
             }
            },
            "type": "scatterpolargl"
           }
          ],
          "scatterternary": [
           {
            "marker": {
             "colorbar": {
              "outlinewidth": 0,
              "ticks": ""
             }
            },
            "type": "scatterternary"
           }
          ],
          "surface": [
           {
            "colorbar": {
             "outlinewidth": 0,
             "ticks": ""
            },
            "colorscale": [
             [
              0,
              "#0d0887"
             ],
             [
              0.1111111111111111,
              "#46039f"
             ],
             [
              0.2222222222222222,
              "#7201a8"
             ],
             [
              0.3333333333333333,
              "#9c179e"
             ],
             [
              0.4444444444444444,
              "#bd3786"
             ],
             [
              0.5555555555555556,
              "#d8576b"
             ],
             [
              0.6666666666666666,
              "#ed7953"
             ],
             [
              0.7777777777777778,
              "#fb9f3a"
             ],
             [
              0.8888888888888888,
              "#fdca26"
             ],
             [
              1,
              "#f0f921"
             ]
            ],
            "type": "surface"
           }
          ],
          "table": [
           {
            "cells": {
             "fill": {
              "color": "#EBF0F8"
             },
             "line": {
              "color": "white"
             }
            },
            "header": {
             "fill": {
              "color": "#C8D4E3"
             },
             "line": {
              "color": "white"
             }
            },
            "type": "table"
           }
          ]
         },
         "layout": {
          "annotationdefaults": {
           "arrowcolor": "#2a3f5f",
           "arrowhead": 0,
           "arrowwidth": 1
          },
          "autotypenumbers": "strict",
          "coloraxis": {
           "colorbar": {
            "outlinewidth": 0,
            "ticks": ""
           }
          },
          "colorscale": {
           "diverging": [
            [
             0,
             "#8e0152"
            ],
            [
             0.1,
             "#c51b7d"
            ],
            [
             0.2,
             "#de77ae"
            ],
            [
             0.3,
             "#f1b6da"
            ],
            [
             0.4,
             "#fde0ef"
            ],
            [
             0.5,
             "#f7f7f7"
            ],
            [
             0.6,
             "#e6f5d0"
            ],
            [
             0.7,
             "#b8e186"
            ],
            [
             0.8,
             "#7fbc41"
            ],
            [
             0.9,
             "#4d9221"
            ],
            [
             1,
             "#276419"
            ]
           ],
           "sequential": [
            [
             0,
             "#0d0887"
            ],
            [
             0.1111111111111111,
             "#46039f"
            ],
            [
             0.2222222222222222,
             "#7201a8"
            ],
            [
             0.3333333333333333,
             "#9c179e"
            ],
            [
             0.4444444444444444,
             "#bd3786"
            ],
            [
             0.5555555555555556,
             "#d8576b"
            ],
            [
             0.6666666666666666,
             "#ed7953"
            ],
            [
             0.7777777777777778,
             "#fb9f3a"
            ],
            [
             0.8888888888888888,
             "#fdca26"
            ],
            [
             1,
             "#f0f921"
            ]
           ],
           "sequentialminus": [
            [
             0,
             "#0d0887"
            ],
            [
             0.1111111111111111,
             "#46039f"
            ],
            [
             0.2222222222222222,
             "#7201a8"
            ],
            [
             0.3333333333333333,
             "#9c179e"
            ],
            [
             0.4444444444444444,
             "#bd3786"
            ],
            [
             0.5555555555555556,
             "#d8576b"
            ],
            [
             0.6666666666666666,
             "#ed7953"
            ],
            [
             0.7777777777777778,
             "#fb9f3a"
            ],
            [
             0.8888888888888888,
             "#fdca26"
            ],
            [
             1,
             "#f0f921"
            ]
           ]
          },
          "colorway": [
           "#636efa",
           "#EF553B",
           "#00cc96",
           "#ab63fa",
           "#FFA15A",
           "#19d3f3",
           "#FF6692",
           "#B6E880",
           "#FF97FF",
           "#FECB52"
          ],
          "font": {
           "color": "#2a3f5f"
          },
          "geo": {
           "bgcolor": "white",
           "lakecolor": "white",
           "landcolor": "#E5ECF6",
           "showlakes": true,
           "showland": true,
           "subunitcolor": "white"
          },
          "hoverlabel": {
           "align": "left"
          },
          "hovermode": "closest",
          "mapbox": {
           "style": "light"
          },
          "paper_bgcolor": "white",
          "plot_bgcolor": "#E5ECF6",
          "polar": {
           "angularaxis": {
            "gridcolor": "white",
            "linecolor": "white",
            "ticks": ""
           },
           "bgcolor": "#E5ECF6",
           "radialaxis": {
            "gridcolor": "white",
            "linecolor": "white",
            "ticks": ""
           }
          },
          "scene": {
           "xaxis": {
            "backgroundcolor": "#E5ECF6",
            "gridcolor": "white",
            "gridwidth": 2,
            "linecolor": "white",
            "showbackground": true,
            "ticks": "",
            "zerolinecolor": "white"
           },
           "yaxis": {
            "backgroundcolor": "#E5ECF6",
            "gridcolor": "white",
            "gridwidth": 2,
            "linecolor": "white",
            "showbackground": true,
            "ticks": "",
            "zerolinecolor": "white"
           },
           "zaxis": {
            "backgroundcolor": "#E5ECF6",
            "gridcolor": "white",
            "gridwidth": 2,
            "linecolor": "white",
            "showbackground": true,
            "ticks": "",
            "zerolinecolor": "white"
           }
          },
          "shapedefaults": {
           "line": {
            "color": "#2a3f5f"
           }
          },
          "ternary": {
           "aaxis": {
            "gridcolor": "white",
            "linecolor": "white",
            "ticks": ""
           },
           "baxis": {
            "gridcolor": "white",
            "linecolor": "white",
            "ticks": ""
           },
           "bgcolor": "#E5ECF6",
           "caxis": {
            "gridcolor": "white",
            "linecolor": "white",
            "ticks": ""
           }
          },
          "title": {
           "x": 0.05
          },
          "xaxis": {
           "automargin": true,
           "gridcolor": "white",
           "linecolor": "white",
           "ticks": "",
           "title": {
            "standoff": 15
           },
           "zerolinecolor": "white",
           "zerolinewidth": 2
          },
          "yaxis": {
           "automargin": true,
           "gridcolor": "white",
           "linecolor": "white",
           "ticks": "",
           "title": {
            "standoff": 15
           },
           "zerolinecolor": "white",
           "zerolinewidth": 2
          }
         }
        },
        "title": {
         "font": {
          "family": "Montserrat-Regular, Raleway, sans-serif"
         },
         "text": "Durchschnittliche Ernährungszusammensetzung ausgewählter Länder und die Empfehlung der EAT-Lancet Kommission",
         "x": 0,
         "y": 1
        },
        "uniformtext": {
         "minsize": 13,
         "mode": "hide"
        },
        "xaxis": {
         "anchor": "y",
         "domain": [
          0,
          1
         ],
         "title": {
          "text": "Lebensmittelkategorie in Gramm"
         }
        },
        "yaxis": {
         "anchor": "x",
         "categoryarray": [
          "EAT-Lancet",
          "Deutschland",
          "Spanien",
          "Frankreich",
          "Italien",
          "Vereinigte Staaten von Amerika"
         ],
         "categoryorder": "array",
         "domain": [
          0,
          1
         ],
         "tickformat": "",
         "title": {}
        }
       }
      }
     },
     "metadata": {},
     "output_type": "display_data"
    }
   ],
   "source": [
    "#figure\n",
    "df_diet_sub=df_diet.groupby(['country', 'group']).agg({\n",
    "                        'gramm':'sum'\n",
    "                        }).reset_index(level=[0,1])\n",
    "df_diet_sub=df_diet_sub[df_diet_sub['country'].isin(['EAT-Lancet','Deutschland', 'Vereinigte Staaten von Amerika', 'Frankreich', 'Spanien', 'Italien'])]\n",
    "fig_3_1=px.bar(data_frame=df_diet_sub, x=\"gramm\",y=\"country\",\n",
    "        color=\"group\", text='gramm', orientation='h', \n",
    "        color_discrete_map={\n",
    "                    \"Pflanzliche Produkte\": colors[0],\n",
    "                    \"Fleisch & Fisch\": colors[2],\n",
    "                    \"Milchprodukte & Eier\": colors[1],\n",
    "                    \"Zucker\": colors[4],\n",
    "                    \"Getreide\": colors[8],\n",
    "                    \"Öl\": colors[5]},\n",
    "        category_orders={\"group\": [\"Fleisch & Fisch\",\"Milchprodukte & Eier\",  \"Pflanzliche Produkte\", \"Getreide\", \"Öl\", \"Zucker\"], 'country':['Vereinigte Staaten von Amerika', 'Italien', 'Frankreich', 'Spanien', 'Deutschland', 'EAT-Lancet']},\n",
    "        )\n",
    "\n",
    "#Axis labels\n",
    "fig_3_1.update_layout(\n",
    "            xaxis = {\"title\": \"Lebensmittelkategorie in Gramm\"},\n",
    "            yaxis={'title':None},\n",
    "            font_family=font,\n",
    "            legend_title_text=None,\n",
    "            #Minimum text size for inside text\n",
    "            uniformtext=dict(minsize=13,\n",
    "            mode='hide'),\n",
    "            yaxis_tickformat = '',\n",
    "            title={'text':\"Durchschnittliche Ernährungszusammensetzung ausgewählter Länder und die Empfehlung der EAT-Lancet Kommission\",'font_family':'Montserrat-Regular, Raleway, sans-serif','x':0, 'y':1},\n",
    "            margin=dict(t=30, b=10, l=10, r=10)\n",
    "            \n",
    "            )\n",
    "\n",
    "fig_3_1.update_traces(hovertemplate=None, hoverinfo='skip',\n",
    "        #Text formatting\n",
    "        texttemplate=\"%{x:.0f} g\",\n",
    "        textposition='inside',\n",
    "        insidetextanchor='middle',\n",
    "        textangle=0)"
   ]
  },
  {
   "cell_type": "code",
   "execution_count": 37,
   "metadata": {},
   "outputs": [],
   "source": [
    "fig_3_1.write_image(\"fig_3_1.png\", width='1200', scale=1.5)"
   ]
  },
  {
   "cell_type": "markdown",
   "metadata": {},
   "source": [
    "## 4 Conclusion"
   ]
  },
  {
   "cell_type": "code",
   "execution_count": 38,
   "metadata": {},
   "outputs": [],
   "source": [
    "conclusion='''Die Lebensmittelindustrie ist mitverantwortlich für verschiedene Umweltschäden z.B. Treibhausgasemissionen, Ressourcenverbrauch und Eutrophierung.<br>\n",
    "            Die Emissionen stammen hauptsächlich aus der Landwirtschaftlichen Produktion und der Bewirtung der Flächen. Nur ein geringer Anteil entsteht bei der Verpackung und dem Transport.<br>\n",
    "            Abgesehen von einigen, wenigen Ländern, in denen durch einen großen Agrarsektor und eine hohe Bevölkerungszahl überdurchschnittlich viele Emissionen entstehen, verteilen sich die globalen Emissionen der Lebensmittelindustrieweltweit ähnlich.<br>\n",
    "            Einzelne Lebensmittel tragen unterschiedlich stark zum Umwelteinfluss der Industrie bei. <b><font color='#1D7151'>Pflanzliche Produkte</font></b> produzieren deutlich weniger Treibhausgase und haben einen geringeren Ressourcenverbrauch als <b><font color='#cc0000'>tierische Produkte</font></b> wie Fleisch und Milchprodukte.\n",
    "            Verglichen mit der empfohlenen Ernährungsweise konsumieren die Industriestaaten deutlich <b>zu viel Fleisch, Fisch und tierische Produkte</b>. Um global eine gesunde und nachhaltige Ernährung zu ermöglichen, sollten diese Kategorien reduziert werden.<br>\n",
    "            Was wir essen hat folglich einen großen Einfluss auf unsere Umwelt. Ein Verzicht auf Fleisch und Fisch ist ein guter und effektiver Weg, um mehr Nachhaltigkeit in den eigenen Alltag zu integrieren.\n",
    "            Gleichzeitig unterstützt dies eine gesunde Ernährung und reduziert das Risiko von Krankheiten wie Diabetes oder Schlaganfällen. Nicht zuletzt kommt eine pflanzenbasierte Ernährung vor allem aber auch den Tieren zu Gute.\n",
    "            '''"
   ]
  },
  {
   "cell_type": "markdown",
   "metadata": {},
   "source": [
    "## Render text and figures in template"
   ]
  },
  {
   "cell_type": "code",
   "execution_count": 39,
   "metadata": {},
   "outputs": [],
   "source": [
    "output = template.render(introduction=introduction, \n",
    "                        fig_1_1_title=fig_1_1_title, fig_1_1_description=fig_1_1_description,\n",
    "                        fig_1_2_title=fig_1_2_title, fig_1_2_description=fig_1_2_description, \n",
    "                        fig_1_3_title=fig_1_3_title, fig_1_3_description=fig_1_3_description, \n",
    "                        fig_1_4_title=fig_1_4_title, fig_1_4_description=fig_1_4_description, \n",
    "                        fig_2_1_title=fig_2_1_title, fig_2_1_description=fig_2_1_description,\n",
    "                        fig_2_2_title=fig_2_2_title, fig_2_2_description=fig_2_2_description, \n",
    "                        fig_2_3_title=fig_2_3_title, fig_2_3_description=fig_2_3_description,  \n",
    "                        fig_3_1_title=fig_3_1_title, fig_3_1_description=fig_3_1_description, \n",
    "                        conclusion=conclusion\n",
    "                        )"
   ]
  },
  {
   "cell_type": "code",
   "execution_count": 40,
   "metadata": {},
   "outputs": [],
   "source": [
    "# Write the HTML file\n",
    "with open('report.html', 'w') as f:\n",
    "    f.write(output)"
   ]
  },
  {
   "cell_type": "code",
   "execution_count": 43,
   "metadata": {},
   "outputs": [
    {
     "name": "stdout",
     "output_type": "stream",
     "text": [
      "Selector name or qualifier expected:: ('', '\"@font-face {\\\\n  fon')\n"
     ]
    }
   ],
   "source": [
    "#convert html to pdf\n",
    "with open('report.pdf', \"w+b\") as result_file:\n",
    "    pisa.CreatePDF(\n",
    "        src=output,  # HTML to convert\n",
    "        dest=result_file)  # File handle to receive result"
   ]
  }
 ],
 "metadata": {
  "interpreter": {
   "hash": "c93349fa3b4f50b76e243d5f97388cd83571170d691f1e15385a8e4c01f11fe4"
  },
  "kernelspec": {
   "display_name": "Python 3.8.8 64-bit ('base': conda)",
   "name": "python3"
  },
  "language_info": {
   "codemirror_mode": {
    "name": "ipython",
    "version": 3
   },
   "file_extension": ".py",
   "mimetype": "text/x-python",
   "name": "python",
   "nbconvert_exporter": "python",
   "pygments_lexer": "ipython3",
   "version": "3.8.11"
  },
  "orig_nbformat": 4
 },
 "nbformat": 4,
 "nbformat_minor": 2
}
